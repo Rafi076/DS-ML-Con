{
 "cells": [
  {
   "cell_type": "markdown",
   "metadata": {},
   "source": [
    "# NumPy Essentials (Part:1 - Arrays)\n",
    "\n",
    "Hi Guys,<br>\n",
    "Welcome to the NumPy Essentials lecture part 1.<br>\n",
    "\n",
    "As a fundamental package for scientific computing, NumPy provides the foundations of mathematical, scientific, engineering and data science programming within the Python Echo-system. NumPy’s main object is the homogeneous multidimensional array.<br> \n",
    "\n",
    "**NumPY stands for? Ans: Numerical Python  \n",
    "Numpy developed by? Ans: Travis Oliphant**\n",
    "\n",
    "**I hope that you have already installed NumPy, let's move on a create a new notebook to explore more about NumPy.** <br>\n",
    "\n",
    "# Numpy Arrays\n",
    "### `arange()`,  `linspace()`, `zeros()`,  `ones()`, `eye()`, `rand()`, `randn()`, `randint()`\n",
    "### Methods: `reshape()`, `max()`, `min()`, `argmax()`, `argmin()`<br>\n",
    "### Attributes: `size, shape, dtype` \n",
    "### Indexing & slicing of 1-D arrays (vectors)\n",
    "###  Indexing & slicing 2-D arrays (matrices)"
   ]
  },
  {
   "cell_type": "code",
   "execution_count": 1,
   "metadata": {},
   "outputs": [],
   "source": [
    "# Let import NumPy\n",
    "import numpy as np"
   ]
  },
  {
   "cell_type": "markdown",
   "metadata": {},
   "source": [
    "NumPy has many built-in functions and capabilities. We will focus on some of the most important and key concepts of this powerful library.\n",
    "\n",
    "# Numpy Arrays\n",
    "\n",
    "NumPy arrays will be the main concept that we will be using in this course. These arrays essentially come in two flavors: <br>\n",
    "* **Vectors:** Vectors are strictly 1-dimensional array\n",
    "*  **Matrices:** Matrices are 2-dimensional (matrix can still have only one row or one column)."
   ]
  },
  {
   "cell_type": "markdown",
   "metadata": {},
   "source": [
    "## Creating NumPy Arrays"
   ]
  },
  {
   "cell_type": "markdown",
   "metadata": {},
   "source": [
    "### From Python data type (e.g. List, Tuple)"
   ]
  },
  {
   "cell_type": "code",
   "execution_count": 2,
   "metadata": {},
   "outputs": [
    {
     "data": {
      "text/plain": [
       "[-1, 0, 1]"
      ]
     },
     "execution_count": 2,
     "metadata": {},
     "output_type": "execute_result"
    }
   ],
   "source": [
    "# Lets create a Python list. \n",
    "my_list = [-1,0,1] \n",
    "\n",
    "my_list"
   ]
  },
  {
   "cell_type": "markdown",
   "metadata": {},
   "source": [
    "To create a NumPy array, from a Python data structure, we use NumPy's \"array()\" function. <br>\n",
    "The NumPy's array function can be accessed by typing \"np.array\". <br>\n",
    "We need to cast our Python data structure, my_list, as a parameter to the array function.<br>"
   ]
  },
  {
   "cell_type": "code",
   "execution_count": 3,
   "metadata": {
    "scrolled": true
   },
   "outputs": [
    {
     "data": {
      "text/plain": [
       "array([-1,  0,  1])"
      ]
     },
     "execution_count": 3,
     "metadata": {},
     "output_type": "execute_result"
    }
   ],
   "source": [
    "my_array = np.array(my_list)\n",
    "\n",
    "my_array"
   ]
  },
  {
   "cell_type": "code",
   "execution_count": 4,
   "metadata": {},
   "outputs": [
    {
     "data": {
      "text/plain": [
       "[[1, 2, 3], [4, 5, 6]]"
      ]
     },
     "execution_count": 4,
     "metadata": {},
     "output_type": "execute_result"
    }
   ],
   "source": [
    "# Lets create and cast a list of list to generate 2-D array \n",
    "my_matrix = [[1,2,3],[4,5,6]]\n",
    "my_matrix"
   ]
  },
  {
   "cell_type": "code",
   "execution_count": 5,
   "metadata": {},
   "outputs": [
    {
     "data": {
      "text/plain": [
       "array([[1, 2, 3],\n",
       "       [4, 5, 6]])"
      ]
     },
     "execution_count": 5,
     "metadata": {},
     "output_type": "execute_result"
    }
   ],
   "source": [
    "matrix_one = np.array(my_matrix)\n",
    "matrix_one"
   ]
  },
  {
   "cell_type": "code",
   "execution_count": 6,
   "metadata": {},
   "outputs": [
    {
     "data": {
      "text/plain": [
       "(2, 3)"
      ]
     },
     "execution_count": 6,
     "metadata": {},
     "output_type": "execute_result"
    }
   ],
   "source": [
    "matrix_one.shape"
   ]
  },
  {
   "cell_type": "code",
   "execution_count": 7,
   "metadata": {},
   "outputs": [
    {
     "data": {
      "text/plain": [
       "array([-1,  0,  1])"
      ]
     },
     "execution_count": 7,
     "metadata": {},
     "output_type": "execute_result"
    }
   ],
   "source": [
    "# We can use Tuple instead of list as well. \n",
    "my_tuple = (-1,0,1)\n",
    "my_array = np.array(my_tuple) \n",
    "my_array"
   ]
  },
  {
   "cell_type": "code",
   "execution_count": 9,
   "metadata": {},
   "outputs": [
    {
     "data": {
      "text/plain": [
       "array(['2', '5', '1', 'a'], dtype='<U11')"
      ]
     },
     "execution_count": 9,
     "metadata": {},
     "output_type": "execute_result"
    }
   ],
   "source": [
    "my_array = np.array([2,5,1,\"a\"])\n",
    "my_array"
   ]
  },
  {
   "cell_type": "code",
   "execution_count": 2,
   "metadata": {},
   "outputs": [
    {
     "data": {
      "text/plain": [
       "[3, 4, 6, 7, 'a']"
      ]
     },
     "execution_count": 2,
     "metadata": {},
     "output_type": "execute_result"
    }
   ],
   "source": [
    "my_list = [3,4,6,7,\"a\"]\n",
    "my_list"
   ]
  },
  {
   "cell_type": "markdown",
   "metadata": {},
   "source": [
    "### Array creation using NumPy's Built-in methods\n",
    "\n",
    "Most of the times, we use NumPy built-in methods to create arrays. These are much simpler and faster."
   ]
  },
  {
   "cell_type": "markdown",
   "metadata": {},
   "source": [
    "### `arange()`\n",
    "\n",
    "* arange() is very much similar to Python function range() <br>\n",
    "* Syntax: arange([start,] stop[, step,], dtype=None) <br>\n",
    "* Return evenly spaced values within a given interval. <br>\n",
    "\n",
    "*Press shift+tab for the documentation.*"
   ]
  },
  {
   "cell_type": "code",
   "execution_count": null,
   "metadata": {},
   "outputs": [
    {
     "data": {
      "text/plain": [
       "array([ 0,  1,  2,  3,  4,  5,  6,  7,  8,  9, 10, 11, 12, 13, 14, 15, 16,\n",
       "       17, 18, 19, 20, 21, 22, 23, 24, 25, 26, 27, 28, 29, 30, 31, 32, 33,\n",
       "       34, 35, 36, 37, 38, 39, 40, 41, 42, 43, 44, 45, 46, 47, 48, 49, 50,\n",
       "       51, 52, 53, 54, 55, 56, 57, 58, 59, 60, 61, 62, 63, 64, 65, 66, 67,\n",
       "       68, 69, 70, 71, 72, 73, 74, 75, 76, 77, 78, 79, 80, 81, 82, 83, 84,\n",
       "       85, 86, 87, 88, 89, 90, 91, 92, 93, 94, 95, 96, 97, 98, 99])"
      ]
     },
     "execution_count": 5,
     "metadata": {},
     "output_type": "execute_result"
    }
   ],
   "source": [
    "num = np.arange(100) # similar to range() in Python, not including 100  \n",
    "num"
   ]
  },
  {
   "cell_type": "code",
   "execution_count": 4,
   "metadata": {},
   "outputs": [
    {
     "data": {
      "text/plain": [
       "array([3, 5, 7, 9])"
      ]
     },
     "execution_count": 4,
     "metadata": {},
     "output_type": "execute_result"
    }
   ],
   "source": [
    "# We can give the step\n",
    "np.arange(3,10,2)"
   ]
  },
  {
   "cell_type": "code",
   "execution_count": 6,
   "metadata": {},
   "outputs": [
    {
     "data": {
      "text/plain": [
       "array([0., 2., 4., 6., 8.])"
      ]
     },
     "execution_count": 6,
     "metadata": {},
     "output_type": "execute_result"
    }
   ],
   "source": [
    "# We can give the step and dtype\n",
    "np.arange(0,10,2, dtype=float)"
   ]
  },
  {
   "cell_type": "markdown",
   "metadata": {},
   "source": [
    "### `linspace()`\n",
    "Return evenly spaced numbers over a specified interval.<br>\n",
    "*Press shift+tab for the documentation.*"
   ]
  },
  {
   "cell_type": "code",
   "execution_count": 7,
   "metadata": {
    "scrolled": false
   },
   "outputs": [
    {
     "data": {
      "text/plain": [
       "(array([ 1.        ,  1.19191919,  1.38383838,  1.57575758,  1.76767677,\n",
       "         1.95959596,  2.15151515,  2.34343434,  2.53535354,  2.72727273,\n",
       "         2.91919192,  3.11111111,  3.3030303 ,  3.49494949,  3.68686869,\n",
       "         3.87878788,  4.07070707,  4.26262626,  4.45454545,  4.64646465,\n",
       "         4.83838384,  5.03030303,  5.22222222,  5.41414141,  5.60606061,\n",
       "         5.7979798 ,  5.98989899,  6.18181818,  6.37373737,  6.56565657,\n",
       "         6.75757576,  6.94949495,  7.14141414,  7.33333333,  7.52525253,\n",
       "         7.71717172,  7.90909091,  8.1010101 ,  8.29292929,  8.48484848,\n",
       "         8.67676768,  8.86868687,  9.06060606,  9.25252525,  9.44444444,\n",
       "         9.63636364,  9.82828283, 10.02020202, 10.21212121, 10.4040404 ,\n",
       "        10.5959596 , 10.78787879, 10.97979798, 11.17171717, 11.36363636,\n",
       "        11.55555556, 11.74747475, 11.93939394, 12.13131313, 12.32323232,\n",
       "        12.51515152, 12.70707071, 12.8989899 , 13.09090909, 13.28282828,\n",
       "        13.47474747, 13.66666667, 13.85858586, 14.05050505, 14.24242424,\n",
       "        14.43434343, 14.62626263, 14.81818182, 15.01010101, 15.2020202 ,\n",
       "        15.39393939, 15.58585859, 15.77777778, 15.96969697, 16.16161616,\n",
       "        16.35353535, 16.54545455, 16.73737374, 16.92929293, 17.12121212,\n",
       "        17.31313131, 17.50505051, 17.6969697 , 17.88888889, 18.08080808,\n",
       "        18.27272727, 18.46464646, 18.65656566, 18.84848485, 19.04040404,\n",
       "        19.23232323, 19.42424242, 19.61616162, 19.80808081, 20.        ]),\n",
       " 0.1919191919191919)"
      ]
     },
     "execution_count": 7,
     "metadata": {},
     "output_type": "execute_result"
    }
   ],
   "source": [
    "# start from 1 & end at 15 with 15 evenly spaced points b/w 1 to 15.\n",
    "np.linspace(1, 20, 100, retstep=True)"
   ]
  },
  {
   "cell_type": "code",
   "execution_count": 8,
   "metadata": {},
   "outputs": [
    {
     "data": {
      "text/plain": [
       "(array([ 9.        ,  9.31578947,  9.63157895,  9.94736842, 10.26315789,\n",
       "        10.57894737, 10.89473684, 11.21052632, 11.52631579, 11.84210526,\n",
       "        12.15789474, 12.47368421, 12.78947368, 13.10526316, 13.42105263,\n",
       "        13.73684211, 14.05263158, 14.36842105, 14.68421053, 15.        ]),\n",
       " 0.3157894736842105)"
      ]
     },
     "execution_count": 8,
     "metadata": {},
     "output_type": "execute_result"
    }
   ],
   "source": [
    "my_linspace = np.linspace(9, 15, 20, retstep=True)\n",
    "my_linspace"
   ]
  },
  {
   "cell_type": "code",
   "execution_count": 19,
   "metadata": {},
   "outputs": [
    {
     "data": {
      "text/plain": [
       "array([1.        , 1.03448276, 1.06896552, 1.10344828, 1.13793103,\n",
       "       1.17241379, 1.20689655, 1.24137931, 1.27586207, 1.31034483,\n",
       "       1.34482759, 1.37931034, 1.4137931 , 1.44827586, 1.48275862,\n",
       "       1.51724138, 1.55172414, 1.5862069 , 1.62068966, 1.65517241,\n",
       "       1.68965517, 1.72413793, 1.75862069, 1.79310345, 1.82758621,\n",
       "       1.86206897, 1.89655172, 1.93103448, 1.96551724, 2.        ])"
      ]
     },
     "execution_count": 19,
     "metadata": {},
     "output_type": "execute_result"
    }
   ],
   "source": [
    "np.linspace(1,2,30, ) # 1-D array "
   ]
  },
  {
   "cell_type": "markdown",
   "metadata": {},
   "source": [
    "## Don't Confuse!\n",
    "  * <b>arange() takes 3rd argument as step size.<b><br>\n",
    "  * <b>linspace() take 3rd argument as no of point we want.<b>"
   ]
  },
  {
   "cell_type": "code",
   "execution_count": 10,
   "metadata": {},
   "outputs": [
    {
     "data": {
      "text/plain": [
       "array([ 0,  1,  2,  3,  4,  5,  6,  7,  8,  9, 10, 11, 12, 13, 14, 15])"
      ]
     },
     "execution_count": 10,
     "metadata": {},
     "output_type": "execute_result"
    }
   ],
   "source": [
    "x = np.arange(0, 16)\n",
    "x"
   ]
  },
  {
   "cell_type": "code",
   "execution_count": 11,
   "metadata": {},
   "outputs": [
    {
     "data": {
      "text/plain": [
       "(16,)"
      ]
     },
     "execution_count": 11,
     "metadata": {},
     "output_type": "execute_result"
    }
   ],
   "source": [
    "x.shape"
   ]
  },
  {
   "cell_type": "code",
   "execution_count": 12,
   "metadata": {},
   "outputs": [
    {
     "data": {
      "text/plain": [
       "array([[ 0,  1,  2,  3],\n",
       "       [ 4,  5,  6,  7],\n",
       "       [ 8,  9, 10, 11],\n",
       "       [12, 13, 14, 15]])"
      ]
     },
     "execution_count": 12,
     "metadata": {},
     "output_type": "execute_result"
    }
   ],
   "source": [
    "x.reshape(4,4)"
   ]
  },
  {
   "cell_type": "code",
   "execution_count": 13,
   "metadata": {},
   "outputs": [
    {
     "data": {
      "text/plain": [
       "array([[[ 0,  1,  2,  3],\n",
       "        [ 4,  5,  6,  7]],\n",
       "\n",
       "       [[ 8,  9, 10, 11],\n",
       "        [12, 13, 14, 15]]])"
      ]
     },
     "execution_count": 13,
     "metadata": {},
     "output_type": "execute_result"
    }
   ],
   "source": [
    "y = x.reshape(2, 2, 4)\n",
    "y"
   ]
  },
  {
   "cell_type": "code",
   "execution_count": 14,
   "metadata": {},
   "outputs": [
    {
     "data": {
      "text/plain": [
       "(2, 2, 4)"
      ]
     },
     "execution_count": 14,
     "metadata": {},
     "output_type": "execute_result"
    }
   ],
   "source": [
    "y.shape"
   ]
  },
  {
   "cell_type": "code",
   "execution_count": 15,
   "metadata": {},
   "outputs": [],
   "source": [
    "x = y.reshape(16,)"
   ]
  },
  {
   "cell_type": "code",
   "execution_count": 16,
   "metadata": {},
   "outputs": [
    {
     "data": {
      "text/plain": [
       "array([ 0,  1,  2,  3,  4,  5,  6,  7,  8,  9, 10, 11, 12, 13, 14, 15])"
      ]
     },
     "execution_count": 16,
     "metadata": {},
     "output_type": "execute_result"
    }
   ],
   "source": [
    "x"
   ]
  },
  {
   "cell_type": "code",
   "execution_count": 17,
   "metadata": {},
   "outputs": [
    {
     "data": {
      "text/plain": [
       "(16,)"
      ]
     },
     "execution_count": 17,
     "metadata": {},
     "output_type": "execute_result"
    }
   ],
   "source": [
    "x.shape"
   ]
  },
  {
   "cell_type": "markdown",
   "metadata": {},
   "source": [
    "# `zeros()`\n",
    "In NumPy, numpy.zeros() is a function that creates a new array filled with zeros. This is useful when you need an array of a specific shape filled with zeros, for example, as a placeholder for storing results or initializing an array for further calculations.\n",
    "\n",
    "`syntax`:------>>>\n",
    "\n",
    "numpy.zeros(shape, dtype=float, order='C')\n",
    "\n",
    "Parameters:\n",
    "#shape: int or tuple of ints\n",
    "The shape of the array. For example, (3, 4) creates a 2D array with 3 rows and 4 columns.\n",
    "\n",
    "#dtype: data-type, optional\n",
    "The data type of the array elements (default is float).\n",
    "\n",
    "#order: {'C', 'F'}, optional\n",
    "The memory layout order: 'C' means row-major (C-style), and 'F' means column-major (Fortran-style)."
   ]
  },
  {
   "cell_type": "code",
   "execution_count": 11,
   "metadata": {},
   "outputs": [
    {
     "name": "stdout",
     "output_type": "stream",
     "text": [
      "[0. 0. 0. 0. 0.]\n"
     ]
    }
   ],
   "source": [
    "# Creating a 1D array with 5 elements\n",
    "array_1d = np.zeros(5)\n",
    "print(array_1d)\n"
   ]
  },
  {
   "cell_type": "code",
   "execution_count": 12,
   "metadata": {},
   "outputs": [
    {
     "name": "stdout",
     "output_type": "stream",
     "text": [
      "[[0. 0. 0. 0.]\n",
      " [0. 0. 0. 0.]\n",
      " [0. 0. 0. 0.]]\n"
     ]
    }
   ],
   "source": [
    "# Creating a 2D array with 3 rows and 4 columns\n",
    "array_2d = np.zeros((3, 4))\n",
    "print(array_2d)"
   ]
  },
  {
   "cell_type": "code",
   "execution_count": 13,
   "metadata": {},
   "outputs": [
    {
     "name": "stdout",
     "output_type": "stream",
     "text": [
      "[[0 0 0]\n",
      " [0 0 0]]\n"
     ]
    }
   ],
   "source": [
    "# Creating an integer array filled with zeros\n",
    "array_int = np.zeros((2, 3), dtype=int)\n",
    "print(array_int)"
   ]
  },
  {
   "cell_type": "markdown",
   "metadata": {},
   "source": [
    "# `ones()`\n",
    "In NumPy, np.ones() is a function that creates a new array filled with ones. This is commonly used for initializing an array with ones, often useful for operations that involve additive identity or as a starting point for further calculations.\n",
    "\n",
    "`syntax`:------>>>\n",
    "numpy.ones(shape, dtype=float, order='C')\n",
    "\n",
    "Parameters:\n",
    "#shape: int or tuple of ints\n",
    "The shape of the array, such as (3, 4) for a 2D array with 3 rows and 4 columns.\n",
    "\n",
    "#dtype: data-type, optional\n",
    "The data type of the array elements (default is float).\n",
    "\n",
    "#order: {'C', 'F'}, optional\n",
    "The memory layout order: 'C' is row-major (C-style), and 'F' is column-major (Fortran-style).\n",
    "\n"
   ]
  },
  {
   "cell_type": "code",
   "execution_count": 14,
   "metadata": {},
   "outputs": [
    {
     "name": "stdout",
     "output_type": "stream",
     "text": [
      "[1. 1. 1. 1. 1.]\n"
     ]
    }
   ],
   "source": [
    "# Creating a 1D array with 5 elements\n",
    "array_1d = np.ones(5)\n",
    "print(array_1d)"
   ]
  },
  {
   "cell_type": "code",
   "execution_count": 22,
   "metadata": {},
   "outputs": [
    {
     "name": "stdout",
     "output_type": "stream",
     "text": [
      "[[1 1 1 1]\n",
      " [1 1 1 1]\n",
      " [1 1 1 1]]\n"
     ]
    }
   ],
   "source": [
    "# Creating a 2D array with 3 rows and 4 columns\n",
    "array_2d = np.ones((3, 4), dtype=int, order='f')\n",
    "print(array_2d)"
   ]
  },
  {
   "cell_type": "code",
   "execution_count": 19,
   "metadata": {},
   "outputs": [
    {
     "data": {
      "text/plain": [
       "array([[1., 1., 1.],\n",
       "       [1., 1., 1.],\n",
       "       [1., 1., 1.],\n",
       "       [1., 1., 1.]])"
      ]
     },
     "execution_count": 19,
     "metadata": {},
     "output_type": "execute_result"
    }
   ],
   "source": [
    "# Creating an integer array filled with ones\n",
    "array_int = np.ones((4,3),dtype=float, order='C')\n",
    "array_int"
   ]
  },
  {
   "cell_type": "markdown",
   "metadata": {},
   "source": [
    "### `full()`\n",
    "\n",
    "In NumPy, np.full() creates a new array of a specified shape and fills it with a specified constant value. This function is helpful when you need an array initialized with a specific value rather than just zeros or ones.\n",
    "\n",
    "`syntax`:\n",
    "numpy.full(shape, fill_value, dtype=None, order='C')\n",
    "\n",
    "Parameters:\n",
    "#shape: int or tuple of ints\n",
    "The shape of the array, such as (3, 4) for a 2D array with 3 rows and 4 columns.\n",
    "\n",
    "#fill_value: scalar\n",
    "The constant value with which to fill the array.\n",
    "\n",
    "#dtype: data-type, optional\n",
    "The data type of the array elements. If not provided, it is inferred from the fill_value.\n",
    "\n",
    "#order: {'C', 'F'}, optional\n",
    "The memory layout order: 'C' is row-major (C-style), and 'F' is column-major (Fortran-style)."
   ]
  },
  {
   "cell_type": "code",
   "execution_count": 23,
   "metadata": {},
   "outputs": [
    {
     "name": "stdout",
     "output_type": "stream",
     "text": [
      "[7 7 7 7 7]\n"
     ]
    }
   ],
   "source": [
    "# Creating a 1D array of length 5 filled with the value 7\n",
    "array_1d = np.full(5, 7)\n",
    "print(array_1d)"
   ]
  },
  {
   "cell_type": "code",
   "execution_count": 24,
   "metadata": {},
   "outputs": [
    {
     "name": "stdout",
     "output_type": "stream",
     "text": [
      "[[3.14 3.14 3.14 3.14]\n",
      " [3.14 3.14 3.14 3.14]\n",
      " [3.14 3.14 3.14 3.14]]\n"
     ]
    }
   ],
   "source": [
    "# Creating a 2D array with 3 rows and 4 columns filled with the value 3.14\n",
    "array_2d = np.full((3, 4), 3.14)\n",
    "print(array_2d)"
   ]
  },
  {
   "cell_type": "code",
   "execution_count": 25,
   "metadata": {},
   "outputs": [
    {
     "name": "stdout",
     "output_type": "stream",
     "text": [
      "[[-1 -1 -1]\n",
      " [-1 -1 -1]]\n"
     ]
    }
   ],
   "source": [
    "# Creating an integer array with shape (2, 3), filled with the value -1\n",
    "array_int = np.full((2, 3), -1, dtype=int)\n",
    "print(array_int)"
   ]
  },
  {
   "cell_type": "markdown",
   "metadata": {},
   "source": [
    "## Random \n",
    "\n",
    "We can also create arrays with random numbers using Numpy's built-in functions in Random module.<br>\n",
    "*np.random. and then press tab for the options with random*"
   ]
  },
  {
   "cell_type": "markdown",
   "metadata": {},
   "source": [
    "### `rand()`\n",
    "Create an array of the given shape and populate it with\n",
    "random samples from a uniform distribution\n",
    "over ``[0, 1)``."
   ]
  },
  {
   "cell_type": "code",
   "execution_count": 26,
   "metadata": {},
   "outputs": [
    {
     "data": {
      "text/plain": [
       "array([0.28185106, 0.78317506, 0.7648559 , 0.00607794])"
      ]
     },
     "execution_count": 26,
     "metadata": {},
     "output_type": "execute_result"
    }
   ],
   "source": [
    "np.random.rand(4) # 1-D array with three elements"
   ]
  },
  {
   "cell_type": "code",
   "execution_count": null,
   "metadata": {},
   "outputs": [],
   "source": [
    "np.random.rand(6,4)  # row, col, note we are not passing a tuple here, each dimension as a separate argument"
   ]
  },
  {
   "cell_type": "markdown",
   "metadata": {},
   "source": [
    "### `randn()`\n",
    "\n",
    "Return a sample (or samples) from the \"standard normal\" or a \"Gaussian\" distribution. Unlike rand which is uniform.<br>\n",
    "*Press shift+tab for the documentation.*"
   ]
  },
  {
   "cell_type": "code",
   "execution_count": 32,
   "metadata": {},
   "outputs": [
    {
     "data": {
      "text/plain": [
       "array([[ 8.52019153e-01, -1.09882141e+00,  2.17787249e+00,\n",
       "        -3.70369259e-01,  2.93202997e-01],\n",
       "       [ 9.23297116e-01,  1.10325145e-01, -2.06438028e+00,\n",
       "         2.69994183e-01, -2.35475084e-01],\n",
       "       [ 6.95221941e-01,  2.43149158e-01,  9.26010674e-02,\n",
       "         1.63115819e+00, -5.83484669e-01],\n",
       "       [-5.58933577e-02,  1.68930604e+00, -3.19055238e-01,\n",
       "        -5.16419200e-01, -1.17682815e-01],\n",
       "       [ 7.56281082e-01, -1.57846058e-01,  5.28072864e-01,\n",
       "         2.13099267e-03, -1.14942815e+00],\n",
       "       [ 2.02924856e-01,  2.59612622e-01, -2.77754765e-02,\n",
       "        -1.82307172e+00,  1.81902361e-01],\n",
       "       [ 1.63287090e+00, -1.95754184e-01,  1.00097031e+00,\n",
       "        -4.82231455e-01, -1.19703225e+00],\n",
       "       [-2.43078335e+00,  2.01426454e+00, -5.09887222e-02,\n",
       "         1.23346479e+00,  2.98510737e-01],\n",
       "       [-6.38154468e-01,  8.42575643e-02, -5.46090413e-01,\n",
       "         2.38307043e-01,  4.67583929e-01],\n",
       "       [-1.78075898e+00, -4.14611679e-01,  1.76748813e+00,\n",
       "        -4.58706820e-03, -2.82437069e-01],\n",
       "       [-4.11930894e-01,  6.44014218e-01,  5.51163973e-01,\n",
       "         1.55193729e+00,  1.51049623e-01],\n",
       "       [ 3.53127485e-01, -1.15186628e-01, -6.99340021e-02,\n",
       "         1.23417850e-01, -2.49054643e-01],\n",
       "       [-1.11983010e+00, -6.71954836e-01,  1.11347532e+00,\n",
       "        -2.03980101e-01,  1.01673669e+00],\n",
       "       [ 1.01448150e+00,  2.07727237e-01,  3.35695570e-01,\n",
       "         9.33398476e-01, -2.02939406e-01],\n",
       "       [-2.01488240e+00,  9.11547767e-01, -3.03592106e-01,\n",
       "        -3.43281371e-01, -5.79868003e-02],\n",
       "       [-9.03277386e-02,  6.63140799e-01,  1.49543021e+00,\n",
       "        -5.75094153e-02, -3.61794017e-01],\n",
       "       [ 1.16343554e+00,  1.86920704e+00,  1.42385180e+00,\n",
       "         1.10502018e+00, -1.44016879e+00],\n",
       "       [-2.00785334e+00, -5.44443704e-01,  5.31319745e-01,\n",
       "        -5.02211131e-01,  1.27782905e+00],\n",
       "       [-2.41256515e+00, -1.11219685e+00,  9.73307563e-01,\n",
       "         1.58419876e+00, -2.50892654e+00],\n",
       "       [ 1.07946327e+00, -3.42127580e-01,  1.57206532e+00,\n",
       "         3.88417825e-01,  1.48466817e+00]])"
      ]
     },
     "execution_count": 32,
     "metadata": {},
     "output_type": "execute_result"
    }
   ],
   "source": [
    "np.random.randn(20, 5)"
   ]
  },
  {
   "cell_type": "code",
   "execution_count": 33,
   "metadata": {},
   "outputs": [
    {
     "data": {
      "text/plain": [
       "array([[-3.86836431e-02],\n",
       "       [-4.43397650e-01],\n",
       "       [ 1.04268018e+00],\n",
       "       [-3.06162098e-01],\n",
       "       [-5.45535301e-01],\n",
       "       [-1.36653508e+00],\n",
       "       [-3.18035106e-01],\n",
       "       [ 1.66941214e+00],\n",
       "       [ 8.82926271e-01],\n",
       "       [ 1.45307067e-01],\n",
       "       [ 1.04456754e+00],\n",
       "       [-9.69123199e-02],\n",
       "       [ 3.59559294e-01],\n",
       "       [-2.22071932e+00],\n",
       "       [ 4.23945000e-01],\n",
       "       [ 8.61093695e-01],\n",
       "       [ 3.44487076e-02],\n",
       "       [ 4.11452391e-01],\n",
       "       [-7.72598766e-04],\n",
       "       [ 2.44001558e-01],\n",
       "       [ 1.21532291e-01],\n",
       "       [-3.26956696e+00],\n",
       "       [-4.85772578e-01],\n",
       "       [ 6.43528240e-01],\n",
       "       [-1.58809262e+00],\n",
       "       [-1.43677889e+00],\n",
       "       [-7.33623436e-02],\n",
       "       [-8.98932024e-01],\n",
       "       [ 2.44172513e+00],\n",
       "       [ 2.39683493e-01],\n",
       "       [-9.84148596e-01],\n",
       "       [ 7.06403766e-02],\n",
       "       [-9.74980663e-01],\n",
       "       [ 5.70623954e-01],\n",
       "       [ 1.31586262e-01],\n",
       "       [-1.09162161e+00],\n",
       "       [ 6.47348453e-01],\n",
       "       [ 4.37773480e-01],\n",
       "       [ 2.44633105e-02],\n",
       "       [-1.15342984e+00],\n",
       "       [-7.07507285e-01],\n",
       "       [ 4.34024989e-01],\n",
       "       [-3.04553848e-03],\n",
       "       [-7.10405023e-01],\n",
       "       [ 3.40157362e-01],\n",
       "       [-3.95747911e-01],\n",
       "       [-2.74213041e-01],\n",
       "       [ 2.03149177e-01],\n",
       "       [ 2.37928022e+00],\n",
       "       [-1.45999493e+00],\n",
       "       [-6.25241400e-01],\n",
       "       [ 8.30991495e-01],\n",
       "       [ 6.22743867e-01],\n",
       "       [-7.30587967e-01],\n",
       "       [-3.07454052e-02],\n",
       "       [ 2.39778840e+00],\n",
       "       [-9.02988177e-01],\n",
       "       [ 4.94774225e-01],\n",
       "       [ 5.21340379e-01],\n",
       "       [ 1.86356481e+00],\n",
       "       [-4.37277923e-01],\n",
       "       [-7.62898767e-02],\n",
       "       [ 9.69982452e-01],\n",
       "       [-5.45029854e-02],\n",
       "       [-1.43136277e+00],\n",
       "       [-6.76803606e-01],\n",
       "       [-4.12186201e-01],\n",
       "       [ 8.74605802e-01],\n",
       "       [ 4.57533745e-01],\n",
       "       [ 1.35009152e+00],\n",
       "       [ 2.35405531e+00],\n",
       "       [ 7.62510447e-01],\n",
       "       [ 1.32098580e+00],\n",
       "       [ 1.48003979e+00],\n",
       "       [ 4.42628483e-01],\n",
       "       [-3.80063594e-01],\n",
       "       [-4.50383278e-01],\n",
       "       [ 8.07637417e-01],\n",
       "       [-2.34918884e-01],\n",
       "       [ 9.78321887e-01],\n",
       "       [-2.97631405e-01],\n",
       "       [ 6.32106362e-01],\n",
       "       [-8.33760017e-01],\n",
       "       [-1.61864888e+00],\n",
       "       [-1.29712423e+00],\n",
       "       [ 8.98085322e-01],\n",
       "       [ 4.83750201e-02],\n",
       "       [ 1.75433695e+00],\n",
       "       [ 2.69338063e-01],\n",
       "       [ 4.29986682e-01],\n",
       "       [-2.38553092e-01],\n",
       "       [-5.68708786e-02],\n",
       "       [ 3.02948310e-02],\n",
       "       [-1.54578194e+00],\n",
       "       [-9.68062770e-01],\n",
       "       [ 7.35541734e-01],\n",
       "       [ 3.41758841e-01],\n",
       "       [ 1.33156853e+00],\n",
       "       [-2.15567420e-01],\n",
       "       [-1.76073595e+00],\n",
       "       [ 6.30391065e-01],\n",
       "       [ 1.04804171e+00],\n",
       "       [-5.23933730e-01],\n",
       "       [-8.71700399e-02],\n",
       "       [-4.07233027e-01],\n",
       "       [ 1.23201167e-01],\n",
       "       [ 3.21527229e-01],\n",
       "       [ 1.49174320e-01],\n",
       "       [ 1.06789878e+00],\n",
       "       [-1.14152405e+00],\n",
       "       [ 9.76420559e-01],\n",
       "       [-6.01172133e-01],\n",
       "       [-3.73725543e-01],\n",
       "       [ 1.63896559e-01],\n",
       "       [-1.11453201e+00],\n",
       "       [ 1.19784433e+00],\n",
       "       [-6.41260031e-01],\n",
       "       [ 1.00016854e+00],\n",
       "       [-5.00324099e-01],\n",
       "       [-3.30134032e-01],\n",
       "       [-3.81243754e-01],\n",
       "       [ 9.66052014e-01],\n",
       "       [-6.51155093e-01],\n",
       "       [-2.08252861e-01],\n",
       "       [-1.67477609e+00],\n",
       "       [-8.55350990e-01],\n",
       "       [ 4.95623841e-01],\n",
       "       [ 1.03753127e+00],\n",
       "       [ 2.32644914e-01],\n",
       "       [ 4.35365284e-01],\n",
       "       [-1.19159753e-01],\n",
       "       [ 8.90299898e-01],\n",
       "       [-1.07399974e+00],\n",
       "       [-1.39186057e+00],\n",
       "       [-1.23659847e-01],\n",
       "       [-2.00896468e-01],\n",
       "       [-6.23552010e-01],\n",
       "       [ 6.00303994e-01],\n",
       "       [ 1.48125530e+00],\n",
       "       [ 9.74898404e-01],\n",
       "       [ 4.89377036e-01],\n",
       "       [-1.35301999e-01],\n",
       "       [ 1.72497975e-01],\n",
       "       [ 9.43700163e-02],\n",
       "       [ 5.70165516e-01],\n",
       "       [ 1.90986704e+00],\n",
       "       [ 4.23902117e-01],\n",
       "       [ 9.80071916e-01],\n",
       "       [ 3.00039000e-01],\n",
       "       [ 1.91174133e+00],\n",
       "       [-9.75298357e-02],\n",
       "       [ 1.06182935e+00],\n",
       "       [-5.99836502e-02],\n",
       "       [-9.70743169e-01],\n",
       "       [-7.54241040e-01],\n",
       "       [-5.17191858e-02],\n",
       "       [ 3.68480226e-01],\n",
       "       [ 3.76075889e-01],\n",
       "       [-6.63736510e-01],\n",
       "       [ 6.42104466e-01],\n",
       "       [ 6.64755198e-02],\n",
       "       [ 2.61348965e-01],\n",
       "       [ 8.84029165e-01],\n",
       "       [ 1.23474240e+00],\n",
       "       [ 1.29493750e+00],\n",
       "       [-2.43779389e-01],\n",
       "       [-5.70248911e-01],\n",
       "       [ 8.73035408e-01],\n",
       "       [ 6.16747496e-01],\n",
       "       [ 7.17326563e-01],\n",
       "       [ 9.80676862e-01],\n",
       "       [-2.60806874e-01],\n",
       "       [ 1.14446027e+00],\n",
       "       [ 9.97860426e-01],\n",
       "       [ 1.24514489e+00],\n",
       "       [-3.55230913e-02],\n",
       "       [ 1.30282215e+00],\n",
       "       [ 2.38281120e-01],\n",
       "       [-5.29850121e-01],\n",
       "       [-6.77723539e-01],\n",
       "       [ 8.32727654e-01],\n",
       "       [-2.24999363e+00],\n",
       "       [-1.07445870e+00],\n",
       "       [-1.06608176e+00],\n",
       "       [-1.05840070e-01],\n",
       "       [ 1.49514968e+00],\n",
       "       [-3.17310591e-01],\n",
       "       [-2.95945435e-01],\n",
       "       [ 6.42463200e-01],\n",
       "       [-2.94642509e-01],\n",
       "       [-8.81036496e-01],\n",
       "       [ 1.41425321e+00],\n",
       "       [-6.64480403e-01],\n",
       "       [-4.58953788e-01],\n",
       "       [-2.72180681e-01],\n",
       "       [-1.42273051e+00],\n",
       "       [-2.07703723e-01],\n",
       "       [-4.49706912e-01],\n",
       "       [ 7.10370016e-01],\n",
       "       [ 4.62163635e-01],\n",
       "       [ 1.16844693e+00],\n",
       "       [ 1.88255085e+00],\n",
       "       [-5.31151317e-01],\n",
       "       [-1.94893208e-01],\n",
       "       [ 1.83381893e-02],\n",
       "       [-8.85329288e-01],\n",
       "       [-1.74536127e-01],\n",
       "       [ 4.27409952e-01],\n",
       "       [ 1.06903906e+00],\n",
       "       [-9.66952596e-01],\n",
       "       [-1.98726896e+00],\n",
       "       [-8.85951838e-01],\n",
       "       [-9.10902486e-02],\n",
       "       [ 3.29179115e-01],\n",
       "       [ 9.57121910e-01],\n",
       "       [-1.10579634e+00],\n",
       "       [-1.33071282e-01],\n",
       "       [ 7.93289240e-01],\n",
       "       [ 6.01694248e-01],\n",
       "       [-1.49470361e+00],\n",
       "       [ 2.05016275e-01],\n",
       "       [-1.63954407e+00],\n",
       "       [-6.67812514e-01],\n",
       "       [ 1.40900614e+00],\n",
       "       [ 5.90142056e-01],\n",
       "       [ 1.07185570e+00],\n",
       "       [-7.55916348e-03],\n",
       "       [-2.29854109e-02],\n",
       "       [-2.95793066e-01],\n",
       "       [ 9.80417040e-01],\n",
       "       [ 7.23633999e-01],\n",
       "       [ 1.10077077e+00],\n",
       "       [ 1.91507122e+00],\n",
       "       [ 3.19468759e-01],\n",
       "       [ 1.27146925e+00],\n",
       "       [-1.47152526e+00],\n",
       "       [-3.16396503e-02],\n",
       "       [ 1.40445416e+00],\n",
       "       [ 1.28080581e+00],\n",
       "       [-1.46548036e-01],\n",
       "       [ 3.86522228e-01],\n",
       "       [ 7.31835534e-01],\n",
       "       [-7.12147453e-02],\n",
       "       [ 1.24928790e+00],\n",
       "       [-1.33663261e-01],\n",
       "       [ 1.14334109e-02],\n",
       "       [ 1.22881747e+00],\n",
       "       [ 1.38445836e+00],\n",
       "       [ 1.17435406e-01],\n",
       "       [-5.71648583e-02],\n",
       "       [-9.55133765e-01],\n",
       "       [-5.65277139e-01],\n",
       "       [-8.21697848e-01],\n",
       "       [ 9.32246453e-03],\n",
       "       [-4.06189366e-01],\n",
       "       [ 8.43043927e-01],\n",
       "       [-6.27535822e-02],\n",
       "       [-7.74584200e-01],\n",
       "       [-7.19249801e-01],\n",
       "       [-1.65089298e-01],\n",
       "       [-3.18163634e-01],\n",
       "       [-2.77587051e-01],\n",
       "       [-8.16925732e-01],\n",
       "       [ 2.35708017e-01],\n",
       "       [-2.93719047e-01],\n",
       "       [ 2.56948169e-01],\n",
       "       [ 8.04586193e-01],\n",
       "       [ 2.18426486e-01],\n",
       "       [ 1.09596687e+00],\n",
       "       [ 9.66265786e-01],\n",
       "       [-1.18510553e+00],\n",
       "       [-1.07888663e+00],\n",
       "       [-2.33205818e-01],\n",
       "       [-1.40496590e+00],\n",
       "       [-7.15948039e-01],\n",
       "       [-2.03054708e+00],\n",
       "       [-1.25961358e+00],\n",
       "       [-1.11673454e+00],\n",
       "       [ 3.68899854e-01],\n",
       "       [-9.19678359e-01],\n",
       "       [ 1.96140023e+00],\n",
       "       [-7.03989867e-01],\n",
       "       [-5.49097371e-01],\n",
       "       [ 8.35025185e-01],\n",
       "       [ 8.05655184e-01],\n",
       "       [ 2.46176790e-02],\n",
       "       [-4.17378201e-01],\n",
       "       [ 1.75886912e+00],\n",
       "       [ 6.19277739e-01],\n",
       "       [-1.28094632e+00],\n",
       "       [-1.74295566e-02],\n",
       "       [ 1.10891977e+00],\n",
       "       [-1.24795757e-01],\n",
       "       [ 5.08175000e-01],\n",
       "       [ 5.52661044e-01],\n",
       "       [ 2.18264689e+00],\n",
       "       [-3.55076343e-02],\n",
       "       [ 1.93134920e+00],\n",
       "       [-5.63701398e-01],\n",
       "       [ 6.56511178e-01],\n",
       "       [ 1.62716692e+00],\n",
       "       [ 8.61848036e-01],\n",
       "       [-5.77302604e-01],\n",
       "       [ 2.33403656e+00],\n",
       "       [ 3.78595336e-01],\n",
       "       [-7.25792543e-02],\n",
       "       [-2.49523107e+00],\n",
       "       [-7.93807211e-01],\n",
       "       [-1.30895073e+00],\n",
       "       [ 4.54293316e-01],\n",
       "       [-1.44229793e+00],\n",
       "       [-4.12341971e-01],\n",
       "       [ 3.99046988e-01],\n",
       "       [-5.99557081e-01],\n",
       "       [-7.13776486e-02],\n",
       "       [-6.77524887e-01],\n",
       "       [-7.04905948e-02],\n",
       "       [-1.57086611e+00],\n",
       "       [ 9.29482170e-01],\n",
       "       [ 4.70591808e-01],\n",
       "       [-2.12967056e-01],\n",
       "       [-9.90868346e-01],\n",
       "       [ 7.63482285e-01],\n",
       "       [-1.27249048e+00],\n",
       "       [-1.00523656e+00],\n",
       "       [ 1.47216974e+00],\n",
       "       [ 1.08437211e+00],\n",
       "       [-3.42142784e-02],\n",
       "       [-5.88249247e-01],\n",
       "       [ 4.88243289e-01],\n",
       "       [ 1.92398819e+00],\n",
       "       [ 5.77471825e-01],\n",
       "       [-1.18730347e-01],\n",
       "       [ 5.10300178e-01],\n",
       "       [ 2.93740644e-01],\n",
       "       [-1.28993360e+00],\n",
       "       [-1.02616659e+00],\n",
       "       [ 1.40083721e+00],\n",
       "       [ 8.03073216e-01],\n",
       "       [-3.66873832e-01],\n",
       "       [ 2.68978674e-01],\n",
       "       [-3.72082787e-01],\n",
       "       [ 1.62205876e+00],\n",
       "       [-3.01234418e-01],\n",
       "       [-5.64091997e-01],\n",
       "       [-1.43173161e+00],\n",
       "       [-3.40587759e-01],\n",
       "       [ 7.04483771e-01],\n",
       "       [ 2.37470288e-01],\n",
       "       [-2.55635391e-01],\n",
       "       [ 3.79424723e-02],\n",
       "       [ 1.22182560e+00],\n",
       "       [-4.60497666e-01],\n",
       "       [-1.65635538e+00],\n",
       "       [-5.94045750e-01],\n",
       "       [-6.17547113e-01],\n",
       "       [-5.08861548e-01],\n",
       "       [ 3.22269962e+00],\n",
       "       [ 3.10364211e-01],\n",
       "       [-4.49130328e-01],\n",
       "       [-4.74724056e-01],\n",
       "       [ 2.05646060e+00],\n",
       "       [ 1.23557567e-01],\n",
       "       [ 1.52820168e-01],\n",
       "       [-1.35196514e-01],\n",
       "       [ 2.31419302e-01],\n",
       "       [ 1.20561851e+00],\n",
       "       [ 9.70702510e-01],\n",
       "       [-1.20199039e-01],\n",
       "       [-9.27058483e-01],\n",
       "       [ 8.51190418e-01],\n",
       "       [-2.01500216e-01],\n",
       "       [ 2.27162931e-01],\n",
       "       [ 1.15592949e-01],\n",
       "       [ 7.89877908e-01],\n",
       "       [-1.32591531e+00],\n",
       "       [-3.61239616e-01],\n",
       "       [-7.76875893e-01],\n",
       "       [-6.68261125e-01],\n",
       "       [ 1.46525034e+00],\n",
       "       [-4.47020659e-01],\n",
       "       [ 1.37222046e+00],\n",
       "       [ 8.96568180e-01],\n",
       "       [-5.19859064e-02],\n",
       "       [ 2.65394431e-01],\n",
       "       [-1.60546143e+00],\n",
       "       [-5.44259111e-01],\n",
       "       [-9.92842901e-01],\n",
       "       [ 1.90030504e-01],\n",
       "       [-8.55148037e-01],\n",
       "       [-3.24672906e-01],\n",
       "       [ 2.00830995e+00],\n",
       "       [-6.31304027e-01],\n",
       "       [-1.56999076e+00],\n",
       "       [-9.44844707e-01],\n",
       "       [ 5.16889669e-02],\n",
       "       [-1.31259293e+00],\n",
       "       [ 7.07265670e-01],\n",
       "       [ 1.10655364e+00],\n",
       "       [-3.59111408e-01],\n",
       "       [-1.43359611e+00],\n",
       "       [ 7.16977999e-01],\n",
       "       [-2.75349476e+00],\n",
       "       [-1.14874874e+00],\n",
       "       [-5.94113639e-03],\n",
       "       [-1.39885487e-01],\n",
       "       [ 2.02297888e+00],\n",
       "       [ 2.73765080e+00],\n",
       "       [ 1.43545830e-01],\n",
       "       [ 6.45749981e-01],\n",
       "       [-1.68909183e-01],\n",
       "       [ 3.82176489e-02],\n",
       "       [-8.14438970e-01],\n",
       "       [-9.48899774e-02],\n",
       "       [-6.82624568e-01],\n",
       "       [ 9.23194570e-01],\n",
       "       [-2.66394755e-01],\n",
       "       [-7.32315996e-01],\n",
       "       [-3.83949450e-02],\n",
       "       [-5.60944086e-01],\n",
       "       [-1.15390317e+00],\n",
       "       [-6.30729192e-01],\n",
       "       [ 2.58746256e-01],\n",
       "       [-9.71547746e-01],\n",
       "       [ 1.07168872e+00],\n",
       "       [-2.53194107e-01],\n",
       "       [-1.38945202e+00],\n",
       "       [ 6.72785527e-01],\n",
       "       [-5.88597547e-01],\n",
       "       [-2.92240994e-01],\n",
       "       [-8.44461602e-01],\n",
       "       [ 9.68741477e-02],\n",
       "       [ 1.08891915e+00],\n",
       "       [-2.86860805e-02],\n",
       "       [ 1.56828091e+00],\n",
       "       [-1.25236349e-01],\n",
       "       [ 8.44115515e-01],\n",
       "       [-2.10211677e-01],\n",
       "       [ 2.20811685e+00],\n",
       "       [-1.56077263e-01],\n",
       "       [ 1.97041129e+00],\n",
       "       [-3.23048910e-01],\n",
       "       [-1.38833983e+00],\n",
       "       [-6.90206820e-01],\n",
       "       [-1.82022373e-01],\n",
       "       [ 2.38136468e-01],\n",
       "       [-7.80778978e-02],\n",
       "       [-6.48976153e-01],\n",
       "       [ 8.27157355e-02],\n",
       "       [ 4.48830587e-01],\n",
       "       [ 2.64137242e-01],\n",
       "       [ 7.28734596e-01],\n",
       "       [ 5.85702899e-01],\n",
       "       [-1.98735063e-01],\n",
       "       [ 9.69264109e-01],\n",
       "       [-1.46326706e+00],\n",
       "       [ 8.13109153e-01],\n",
       "       [ 1.80045561e+00],\n",
       "       [-1.62899328e+00],\n",
       "       [ 1.10861811e+00],\n",
       "       [ 1.05994214e+00],\n",
       "       [-1.16724930e+00],\n",
       "       [-2.19028856e+00],\n",
       "       [-9.72032339e-01],\n",
       "       [ 4.45140231e-01],\n",
       "       [-1.08631507e+00],\n",
       "       [-8.81884343e-01],\n",
       "       [ 3.78651325e-01],\n",
       "       [ 5.36243260e-01],\n",
       "       [-6.83726175e-02],\n",
       "       [ 3.58867611e-01],\n",
       "       [-4.44889523e-01],\n",
       "       [-5.12265603e-01],\n",
       "       [ 9.72161139e-01],\n",
       "       [-5.21996347e-01],\n",
       "       [ 6.70670319e-01],\n",
       "       [ 6.99356112e-01],\n",
       "       [ 1.90145366e-01],\n",
       "       [-5.50972234e-02],\n",
       "       [ 1.48196218e+00],\n",
       "       [-1.64192925e+00],\n",
       "       [-1.26127403e+00],\n",
       "       [-2.65119037e-01],\n",
       "       [-6.37980384e-01],\n",
       "       [ 1.96767145e-02],\n",
       "       [ 1.96651686e-01],\n",
       "       [ 1.65679417e+00],\n",
       "       [-2.30779234e-01],\n",
       "       [ 3.75418778e-01],\n",
       "       [-3.93382221e-01],\n",
       "       [ 9.13407664e-02],\n",
       "       [-2.11798432e-01],\n",
       "       [-3.37177603e-01],\n",
       "       [-2.90973287e-01],\n",
       "       [ 1.17728224e+00],\n",
       "       [ 4.71858893e-02],\n",
       "       [ 8.39512191e-01],\n",
       "       [-3.93117045e-01],\n",
       "       [-5.37044799e-01],\n",
       "       [ 4.00949713e-01],\n",
       "       [ 1.11729077e+00],\n",
       "       [-7.57911041e-01],\n",
       "       [-5.39631869e-01],\n",
       "       [-6.45149140e-01],\n",
       "       [ 2.72772558e-01],\n",
       "       [-4.22456131e-01],\n",
       "       [-8.97988739e-01],\n",
       "       [ 5.35636290e-01],\n",
       "       [ 4.79405355e-01],\n",
       "       [-1.59245031e+00],\n",
       "       [ 3.39508990e-01],\n",
       "       [-3.95576306e-01],\n",
       "       [-2.78547178e-01],\n",
       "       [ 1.34807062e+00],\n",
       "       [ 5.81664623e-02],\n",
       "       [ 1.73114124e+00],\n",
       "       [-9.98227216e-01],\n",
       "       [-1.81829194e+00],\n",
       "       [ 1.37278762e+00],\n",
       "       [-1.10476675e+00],\n",
       "       [-8.99967740e-01],\n",
       "       [ 2.68317791e-01],\n",
       "       [-1.20916930e+00],\n",
       "       [-3.30393700e-01],\n",
       "       [-1.53775730e+00],\n",
       "       [ 1.98843738e-01],\n",
       "       [-4.49247175e-01],\n",
       "       [-1.63472622e+00],\n",
       "       [-1.77712902e+00],\n",
       "       [-5.72160150e-01],\n",
       "       [ 6.20116803e-01],\n",
       "       [-1.28067973e-01],\n",
       "       [ 1.03628148e+00],\n",
       "       [-1.30313649e+00],\n",
       "       [-4.17581253e-02],\n",
       "       [-5.34854751e-01],\n",
       "       [ 1.47184531e+00],\n",
       "       [-9.70062009e-01],\n",
       "       [-5.82428745e-01],\n",
       "       [ 7.44241860e-01],\n",
       "       [-1.65244978e+00],\n",
       "       [-9.23849319e-01],\n",
       "       [ 2.78711579e+00],\n",
       "       [ 1.22584989e+00],\n",
       "       [-7.30424893e-01],\n",
       "       [-5.92434028e-01],\n",
       "       [ 1.23444510e+00],\n",
       "       [ 2.49165003e-01],\n",
       "       [-8.77427326e-01],\n",
       "       [-1.54070828e+00],\n",
       "       [ 1.22982172e+00],\n",
       "       [ 1.14535963e-01],\n",
       "       [-7.42319041e-01],\n",
       "       [ 3.15945432e-01],\n",
       "       [-2.87344109e+00],\n",
       "       [-4.73847193e-01],\n",
       "       [-3.29468186e-01],\n",
       "       [ 1.43118924e+00],\n",
       "       [-1.20714674e+00],\n",
       "       [ 3.06925004e-01],\n",
       "       [ 2.15328074e-01],\n",
       "       [ 1.46708800e+00],\n",
       "       [ 1.38187254e+00],\n",
       "       [ 3.67749972e-02],\n",
       "       [-7.79870944e-02],\n",
       "       [ 3.48587613e-01],\n",
       "       [ 1.77883047e+00],\n",
       "       [ 1.39436019e+00],\n",
       "       [-1.22620392e+00],\n",
       "       [ 4.30116734e-01],\n",
       "       [ 9.17841965e-01],\n",
       "       [ 3.88701579e-01],\n",
       "       [ 7.13850285e-01],\n",
       "       [ 9.89326804e-02],\n",
       "       [-1.91382572e-01],\n",
       "       [-6.69736813e-01],\n",
       "       [ 2.22397808e-01],\n",
       "       [-5.49257853e-01],\n",
       "       [-6.70308756e-01],\n",
       "       [-7.86833157e-02],\n",
       "       [ 1.86330582e+00],\n",
       "       [ 4.33004583e-01],\n",
       "       [-5.15568951e-01],\n",
       "       [ 8.78485458e-01],\n",
       "       [ 1.16251561e+00],\n",
       "       [ 1.03786002e+00],\n",
       "       [-4.77757165e-02],\n",
       "       [-4.39535122e-01],\n",
       "       [-1.67713850e-01],\n",
       "       [ 2.06361340e+00],\n",
       "       [ 1.10035270e-01],\n",
       "       [ 4.87861759e-01],\n",
       "       [ 6.76049256e-03],\n",
       "       [-1.21517965e+00],\n",
       "       [ 1.15204371e+00],\n",
       "       [-5.17424936e-02],\n",
       "       [-9.98615426e-01],\n",
       "       [ 1.49480154e+00],\n",
       "       [-6.74988675e-01],\n",
       "       [-2.04412090e-02],\n",
       "       [ 1.79955549e-01],\n",
       "       [ 1.41557094e+00],\n",
       "       [ 1.44932448e+00],\n",
       "       [-8.57385038e-01],\n",
       "       [ 1.94664625e+00],\n",
       "       [-7.68340127e-01],\n",
       "       [ 1.46493043e+00],\n",
       "       [-3.65078164e-01],\n",
       "       [ 7.87373331e-02],\n",
       "       [ 9.33815258e-01],\n",
       "       [ 3.57780434e-01],\n",
       "       [ 1.84752569e+00],\n",
       "       [ 7.34771647e-01],\n",
       "       [ 6.73403231e-01],\n",
       "       [-7.41227154e-01],\n",
       "       [ 9.05326312e-01],\n",
       "       [-1.56569316e+00],\n",
       "       [-6.46044690e-02],\n",
       "       [ 4.54923173e-01],\n",
       "       [ 4.84382483e-01],\n",
       "       [ 4.48982568e-01],\n",
       "       [ 1.30996757e-01],\n",
       "       [ 1.29115179e-02],\n",
       "       [-4.30656396e-01],\n",
       "       [ 2.70975713e-01],\n",
       "       [-1.49195240e+00],\n",
       "       [ 2.76747482e-01],\n",
       "       [-4.83217180e-01],\n",
       "       [-4.47567990e-01],\n",
       "       [-8.39247719e-03],\n",
       "       [ 1.29627077e-01],\n",
       "       [-9.27154237e-01],\n",
       "       [-2.49173545e+00],\n",
       "       [ 1.78159618e-02],\n",
       "       [ 1.12272757e+00],\n",
       "       [-4.30069418e-02],\n",
       "       [-4.77333781e-01],\n",
       "       [ 6.63709494e-01],\n",
       "       [-1.89260762e+00],\n",
       "       [-3.09849317e-01],\n",
       "       [ 4.44207580e-01],\n",
       "       [ 7.10588274e-01],\n",
       "       [ 3.79305520e-01],\n",
       "       [ 4.19504022e-01],\n",
       "       [ 7.78115500e-01],\n",
       "       [ 1.63888102e+00],\n",
       "       [ 6.01801897e-01],\n",
       "       [ 1.05413565e-01],\n",
       "       [ 4.59745494e-01],\n",
       "       [ 9.69760253e-02],\n",
       "       [ 5.22794591e-01],\n",
       "       [ 3.34297984e-01],\n",
       "       [ 1.16052729e+00],\n",
       "       [-1.56249095e+00],\n",
       "       [-3.94772567e-01],\n",
       "       [-8.94834292e-01],\n",
       "       [ 3.94793543e-01],\n",
       "       [ 1.03318323e+00],\n",
       "       [ 9.89144442e-01],\n",
       "       [-6.95180737e-02],\n",
       "       [-2.39709287e+00],\n",
       "       [ 2.11362506e-01],\n",
       "       [ 3.07077439e-01],\n",
       "       [ 7.09167676e-01],\n",
       "       [ 1.54958518e-01],\n",
       "       [-1.52589292e+00],\n",
       "       [ 8.18440649e-01],\n",
       "       [-8.70274713e-03],\n",
       "       [-1.35981398e-01],\n",
       "       [-7.73281765e-01],\n",
       "       [ 4.73318290e-01],\n",
       "       [-7.39068357e-02],\n",
       "       [-1.75791009e-01],\n",
       "       [ 4.33509328e-01],\n",
       "       [ 1.55442870e+00],\n",
       "       [ 1.44593253e+00],\n",
       "       [ 1.28259625e+00],\n",
       "       [ 1.14285434e+00],\n",
       "       [-4.94264442e-01],\n",
       "       [-1.67772468e-01],\n",
       "       [-3.50324010e-01],\n",
       "       [-3.41968677e-01],\n",
       "       [ 6.12518226e-01],\n",
       "       [-1.54983901e+00],\n",
       "       [-5.44007219e-02],\n",
       "       [-1.81006316e+00],\n",
       "       [ 2.91106219e-01],\n",
       "       [ 9.32217583e-01],\n",
       "       [-1.80281763e+00],\n",
       "       [-1.46490797e+00],\n",
       "       [-1.28754094e+00],\n",
       "       [-1.09032794e+00],\n",
       "       [ 5.53769253e-01],\n",
       "       [ 5.13902490e-01],\n",
       "       [-1.13786401e+00],\n",
       "       [-2.26618500e-01],\n",
       "       [-9.03299273e-01],\n",
       "       [ 1.45650515e-01],\n",
       "       [-4.97076227e-02],\n",
       "       [-8.36397016e-01],\n",
       "       [-7.53377017e-01],\n",
       "       [ 1.40915300e-01],\n",
       "       [-2.67467922e-01],\n",
       "       [-1.60113672e+00],\n",
       "       [ 4.99798569e-01],\n",
       "       [-1.57486919e-01],\n",
       "       [-1.84245648e-01],\n",
       "       [-7.07313881e-01],\n",
       "       [ 8.45255631e-01],\n",
       "       [ 2.12180005e-01],\n",
       "       [-1.73559996e+00],\n",
       "       [ 5.94120092e-01],\n",
       "       [ 7.01730969e-02],\n",
       "       [-1.21545546e+00],\n",
       "       [-3.02383113e-01],\n",
       "       [ 4.67352637e-01],\n",
       "       [-4.28802611e-01],\n",
       "       [-6.99237039e-01],\n",
       "       [-8.01512324e-02],\n",
       "       [ 4.03667642e-01],\n",
       "       [ 3.89101679e-01],\n",
       "       [-1.65161936e-01],\n",
       "       [-1.38722309e-01],\n",
       "       [-8.04626544e-02],\n",
       "       [-1.55785034e-01],\n",
       "       [ 3.63340495e-01],\n",
       "       [-2.16545894e+00],\n",
       "       [-5.28804262e-01],\n",
       "       [ 1.18705049e+00],\n",
       "       [ 1.80316940e-01],\n",
       "       [ 2.36247322e-01],\n",
       "       [ 9.18627048e-03],\n",
       "       [ 1.01032839e+00],\n",
       "       [-1.63152739e+00],\n",
       "       [ 2.73667816e-01],\n",
       "       [ 9.35820709e-01],\n",
       "       [-1.50493188e+00],\n",
       "       [ 5.87988758e-03],\n",
       "       [-1.46947096e+00],\n",
       "       [-2.24153624e-01],\n",
       "       [ 1.60206356e+00],\n",
       "       [ 7.19886040e-01],\n",
       "       [ 7.32646714e-01],\n",
       "       [ 2.09446833e+00],\n",
       "       [-9.79270668e-01],\n",
       "       [ 1.41709146e-01],\n",
       "       [ 1.22387380e+00],\n",
       "       [ 8.33610880e-01],\n",
       "       [-1.71877315e-01],\n",
       "       [ 2.09905767e+00],\n",
       "       [ 1.21520987e+00],\n",
       "       [ 1.74531845e+00],\n",
       "       [-8.34996078e-01],\n",
       "       [-4.55038617e-01],\n",
       "       [-1.46149593e+00],\n",
       "       [ 4.36627167e-01],\n",
       "       [-1.51389154e+00],\n",
       "       [-2.53492480e+00],\n",
       "       [-4.01151945e-01],\n",
       "       [ 1.88459076e+00],\n",
       "       [-2.54469235e-02],\n",
       "       [ 1.88929450e-01],\n",
       "       [-4.04005802e-01],\n",
       "       [ 7.92376327e-01],\n",
       "       [ 3.19197406e-01],\n",
       "       [-9.38132269e-01],\n",
       "       [-3.92088408e-01],\n",
       "       [-5.09440525e-01],\n",
       "       [ 1.04374717e+00],\n",
       "       [ 1.09728756e+00],\n",
       "       [ 1.32944364e-01],\n",
       "       [-9.87422191e-01],\n",
       "       [-7.33370499e-01],\n",
       "       [-7.54009304e-02],\n",
       "       [-1.18787755e+00],\n",
       "       [-6.78496612e-01],\n",
       "       [ 9.71751137e-01],\n",
       "       [ 1.85926653e+00],\n",
       "       [-2.32925423e-01],\n",
       "       [ 9.47945306e-01],\n",
       "       [ 4.86697350e-01],\n",
       "       [-5.55105291e-01],\n",
       "       [ 7.22977818e-01],\n",
       "       [ 7.67986639e-01],\n",
       "       [-1.16704008e+00],\n",
       "       [-7.89178833e-01],\n",
       "       [-2.88539208e-01],\n",
       "       [ 7.18398298e-01],\n",
       "       [-2.95889428e+00],\n",
       "       [-3.73564994e-01],\n",
       "       [-8.79548044e-01],\n",
       "       [-1.24889662e-01],\n",
       "       [ 9.77966340e-01],\n",
       "       [ 1.31111431e+00],\n",
       "       [-4.37802886e-01],\n",
       "       [-8.56082741e-01],\n",
       "       [ 1.65511710e-01],\n",
       "       [-5.06157070e-01],\n",
       "       [ 5.93514556e-01],\n",
       "       [-1.99757927e-01],\n",
       "       [-4.17530150e-01],\n",
       "       [ 7.74457726e-01],\n",
       "       [-1.56540549e+00],\n",
       "       [ 8.35163620e-01],\n",
       "       [-3.75245660e-01],\n",
       "       [ 7.23348809e-01],\n",
       "       [ 5.00688634e-02],\n",
       "       [ 3.09622672e-01],\n",
       "       [ 1.69451865e-01],\n",
       "       [ 3.70971386e-01],\n",
       "       [ 1.02323213e+00],\n",
       "       [-7.88768630e-01],\n",
       "       [ 1.85925047e-01],\n",
       "       [-2.29698922e-01],\n",
       "       [-9.64144970e-01],\n",
       "       [ 9.00553273e-02],\n",
       "       [ 8.53465384e-01],\n",
       "       [-5.76484235e-01],\n",
       "       [-4.35127702e-01],\n",
       "       [-4.14456432e-01],\n",
       "       [-2.94695218e-01],\n",
       "       [ 5.20697705e-01],\n",
       "       [-5.06787587e-01],\n",
       "       [-1.15602020e+00],\n",
       "       [ 2.06389743e+00],\n",
       "       [-1.51763130e+00],\n",
       "       [ 5.10152793e-01],\n",
       "       [ 6.31274042e-01],\n",
       "       [ 1.34906112e+00],\n",
       "       [ 2.38710341e-01],\n",
       "       [-1.98383873e+00],\n",
       "       [-1.27654752e+00],\n",
       "       [-2.05259929e+00],\n",
       "       [-5.16392931e-01],\n",
       "       [-6.01545504e-01],\n",
       "       [-1.39867912e+00],\n",
       "       [-2.16322780e-01],\n",
       "       [-1.25842712e+00],\n",
       "       [ 8.10748126e-02],\n",
       "       [ 1.19321257e+00],\n",
       "       [-3.43739051e-01],\n",
       "       [ 7.51676414e-01],\n",
       "       [ 7.86444237e-01],\n",
       "       [-1.05611545e-01],\n",
       "       [-2.24803062e-01],\n",
       "       [-7.66853644e-01],\n",
       "       [-6.60567452e-01],\n",
       "       [ 1.55159925e+00],\n",
       "       [ 9.32199121e-01],\n",
       "       [-3.28171920e-01],\n",
       "       [ 1.62329518e+00],\n",
       "       [ 7.16065441e-01],\n",
       "       [-2.37565235e+00],\n",
       "       [ 9.67043101e-01],\n",
       "       [-9.63688999e-01],\n",
       "       [ 2.39765813e+00],\n",
       "       [-4.41985442e-01],\n",
       "       [ 8.21622556e-01],\n",
       "       [-1.13261140e+00],\n",
       "       [ 1.18535142e+00],\n",
       "       [-6.88791984e-01],\n",
       "       [ 1.20934007e+00],\n",
       "       [ 5.48810561e-01],\n",
       "       [ 1.69123768e+00],\n",
       "       [ 2.41021092e-02],\n",
       "       [-1.67629576e+00],\n",
       "       [-1.98039430e+00],\n",
       "       [-5.72313626e-01],\n",
       "       [ 1.03864528e-01],\n",
       "       [ 3.39588959e-01],\n",
       "       [ 2.63756679e+00],\n",
       "       [-1.19033102e+00],\n",
       "       [-6.69042648e-01],\n",
       "       [ 1.57672935e+00],\n",
       "       [ 9.36039134e-01],\n",
       "       [-1.26182751e+00],\n",
       "       [ 1.63273949e+00],\n",
       "       [ 1.44669132e+00],\n",
       "       [ 1.20873887e+00],\n",
       "       [-9.22195264e-01],\n",
       "       [ 7.12838750e-01],\n",
       "       [ 8.58975056e-01],\n",
       "       [-1.88328263e-01],\n",
       "       [-3.71774752e-01],\n",
       "       [-7.47134051e-01],\n",
       "       [-5.46127519e-01],\n",
       "       [ 9.62283054e-01],\n",
       "       [ 9.23861495e-01],\n",
       "       [-7.98186590e-01],\n",
       "       [-1.18357697e+00],\n",
       "       [ 1.69182567e+00],\n",
       "       [ 1.48114697e+00],\n",
       "       [-1.47456849e+00],\n",
       "       [ 1.56733100e+00],\n",
       "       [ 5.41609345e-01],\n",
       "       [-2.70284608e-01],\n",
       "       [ 2.35433600e-01],\n",
       "       [-2.61421194e+00],\n",
       "       [ 1.89712861e+00],\n",
       "       [-3.74131667e-01],\n",
       "       [-8.40857423e-01],\n",
       "       [-4.44623913e-02],\n",
       "       [ 1.18943041e+00],\n",
       "       [-2.72567998e-01],\n",
       "       [ 2.94906171e-01],\n",
       "       [-1.33170676e+00],\n",
       "       [-3.94680476e-01],\n",
       "       [ 5.08960814e-01],\n",
       "       [-7.30778211e-01],\n",
       "       [-5.86447939e-01],\n",
       "       [ 3.83934895e-01],\n",
       "       [ 2.66417899e+00],\n",
       "       [-3.80112922e-01],\n",
       "       [ 7.28084698e-01],\n",
       "       [-4.87714284e-01],\n",
       "       [ 3.33282370e+00],\n",
       "       [ 4.23351409e-01],\n",
       "       [ 1.98425662e-01],\n",
       "       [-6.56334851e-01],\n",
       "       [ 6.33869720e-01],\n",
       "       [-4.19444330e-01],\n",
       "       [ 7.18421166e-01],\n",
       "       [ 4.93036232e-01],\n",
       "       [ 8.18311937e-01],\n",
       "       [ 6.71672780e-01],\n",
       "       [-5.26175294e-01],\n",
       "       [ 3.07456758e-03],\n",
       "       [-1.51125412e+00],\n",
       "       [ 1.21053852e-02],\n",
       "       [-3.38527778e-01],\n",
       "       [ 6.67221251e-01],\n",
       "       [ 8.58840702e-02],\n",
       "       [ 2.40058814e+00],\n",
       "       [ 4.14505131e-01],\n",
       "       [ 1.47272080e+00],\n",
       "       [-5.99305138e-01],\n",
       "       [ 2.02966141e+00],\n",
       "       [ 1.72974656e-02],\n",
       "       [-2.50531604e+00],\n",
       "       [ 8.00829080e-01],\n",
       "       [-8.13972975e-01],\n",
       "       [ 1.30843436e-01],\n",
       "       [ 1.23382733e+00],\n",
       "       [ 1.30177540e+00],\n",
       "       [-1.64058780e-01],\n",
       "       [-1.11052193e+00],\n",
       "       [-1.49242955e+00],\n",
       "       [-2.29271159e+00],\n",
       "       [ 2.89747307e-01],\n",
       "       [ 2.85139843e-01],\n",
       "       [-9.21217263e-01],\n",
       "       [ 1.41717456e-01],\n",
       "       [ 1.63824901e+00],\n",
       "       [-6.11886063e-01],\n",
       "       [-4.29508991e-01],\n",
       "       [ 6.89403114e-01],\n",
       "       [ 6.70712384e-03],\n",
       "       [-1.98971836e-01],\n",
       "       [ 1.78730436e+00],\n",
       "       [-7.52653631e-01],\n",
       "       [-6.53912705e-01],\n",
       "       [-1.01495275e+00],\n",
       "       [ 8.92554936e-01],\n",
       "       [ 5.80041968e-01],\n",
       "       [-3.31115017e-01],\n",
       "       [-2.59921811e+00],\n",
       "       [ 8.28851290e-01],\n",
       "       [-2.40643041e-01],\n",
       "       [ 5.52661485e-02],\n",
       "       [ 3.42716685e-01],\n",
       "       [-1.12661521e+00],\n",
       "       [ 2.46454501e+00],\n",
       "       [ 1.48062541e-01],\n",
       "       [-7.47198236e-01],\n",
       "       [ 3.60283469e-01],\n",
       "       [-8.18353688e-01],\n",
       "       [ 1.41169085e+00],\n",
       "       [ 3.67107823e-01],\n",
       "       [ 2.86886497e-01],\n",
       "       [ 1.37880402e+00],\n",
       "       [-2.81957732e-01],\n",
       "       [ 1.77943012e+00],\n",
       "       [ 1.05227292e+00],\n",
       "       [-1.30777177e+00],\n",
       "       [ 1.56588794e-01],\n",
       "       [-8.27963317e-01],\n",
       "       [ 2.01880948e-01],\n",
       "       [ 9.19576480e-01],\n",
       "       [ 4.72685717e-01],\n",
       "       [ 2.46058912e+00],\n",
       "       [-3.88470297e-01],\n",
       "       [ 5.34094435e-01],\n",
       "       [ 6.09629011e-01],\n",
       "       [ 1.39878573e+00],\n",
       "       [-5.83098022e-01],\n",
       "       [-5.21539315e-01],\n",
       "       [ 1.89635152e+00],\n",
       "       [ 8.79248469e-02],\n",
       "       [ 4.58944085e-01],\n",
       "       [ 1.27625127e+00]])"
      ]
     },
     "execution_count": 33,
     "metadata": {},
     "output_type": "execute_result"
    }
   ],
   "source": [
    "normal_array = np.random.randn(1000,1) # no tuple, each dimension as a separate argument\n",
    "normal_array"
   ]
  },
  {
   "cell_type": "code",
   "execution_count": 34,
   "metadata": {},
   "outputs": [
    {
     "data": {
      "text/html": [
       "<div>\n",
       "<style scoped>\n",
       "    .dataframe tbody tr th:only-of-type {\n",
       "        vertical-align: middle;\n",
       "    }\n",
       "\n",
       "    .dataframe tbody tr th {\n",
       "        vertical-align: top;\n",
       "    }\n",
       "\n",
       "    .dataframe thead th {\n",
       "        text-align: right;\n",
       "    }\n",
       "</style>\n",
       "<table border=\"1\" class=\"dataframe\">\n",
       "  <thead>\n",
       "    <tr style=\"text-align: right;\">\n",
       "      <th></th>\n",
       "      <th>A</th>\n",
       "    </tr>\n",
       "  </thead>\n",
       "  <tbody>\n",
       "    <tr>\n",
       "      <th>0</th>\n",
       "      <td>-0.038684</td>\n",
       "    </tr>\n",
       "    <tr>\n",
       "      <th>1</th>\n",
       "      <td>-0.443398</td>\n",
       "    </tr>\n",
       "    <tr>\n",
       "      <th>2</th>\n",
       "      <td>1.042680</td>\n",
       "    </tr>\n",
       "    <tr>\n",
       "      <th>3</th>\n",
       "      <td>-0.306162</td>\n",
       "    </tr>\n",
       "    <tr>\n",
       "      <th>4</th>\n",
       "      <td>-0.545535</td>\n",
       "    </tr>\n",
       "    <tr>\n",
       "      <th>...</th>\n",
       "      <td>...</td>\n",
       "    </tr>\n",
       "    <tr>\n",
       "      <th>995</th>\n",
       "      <td>-0.521539</td>\n",
       "    </tr>\n",
       "    <tr>\n",
       "      <th>996</th>\n",
       "      <td>1.896352</td>\n",
       "    </tr>\n",
       "    <tr>\n",
       "      <th>997</th>\n",
       "      <td>0.087925</td>\n",
       "    </tr>\n",
       "    <tr>\n",
       "      <th>998</th>\n",
       "      <td>0.458944</td>\n",
       "    </tr>\n",
       "    <tr>\n",
       "      <th>999</th>\n",
       "      <td>1.276251</td>\n",
       "    </tr>\n",
       "  </tbody>\n",
       "</table>\n",
       "<p>1000 rows × 1 columns</p>\n",
       "</div>"
      ],
      "text/plain": [
       "            A\n",
       "0   -0.038684\n",
       "1   -0.443398\n",
       "2    1.042680\n",
       "3   -0.306162\n",
       "4   -0.545535\n",
       "..        ...\n",
       "995 -0.521539\n",
       "996  1.896352\n",
       "997  0.087925\n",
       "998  0.458944\n",
       "999  1.276251\n",
       "\n",
       "[1000 rows x 1 columns]"
      ]
     },
     "execution_count": 34,
     "metadata": {},
     "output_type": "execute_result"
    }
   ],
   "source": [
    "import pandas as pd\n",
    "\n",
    "df = pd.DataFrame(data=normal_array, columns=['A'])\n",
    "df"
   ]
  },
  {
   "cell_type": "code",
   "execution_count": 35,
   "metadata": {},
   "outputs": [
    {
     "data": {
      "text/plain": [
       "<Axes: >"
      ]
     },
     "execution_count": 35,
     "metadata": {},
     "output_type": "execute_result"
    },
    {
     "data": {
      "image/png": "[encoded data removed]",
      "text/plain": [
       "<Figure size 640x480 with 1 Axes>"
      ]
     },
     "metadata": {},
     "output_type": "display_data"
    }
   ],
   "source": [
    "df['A'].hist(bins=30)"
   ]
  },
  {
   "cell_type": "markdown",
   "metadata": {},
   "source": [
    "### `randint()`\n",
    "Return random integers from `low` (inclusive) to `high` (exclusive)."
   ]
  },
  {
   "cell_type": "code",
   "execution_count": 36,
   "metadata": {},
   "outputs": [
    {
     "data": {
      "text/plain": [
       "array([ 69,  59,  73,  43, 140])"
      ]
     },
     "execution_count": 36,
     "metadata": {},
     "output_type": "execute_result"
    }
   ],
   "source": [
    "np.random.randint(1, 200, 5) #returns one random int, 1 inclusive, 100 exclusive"
   ]
  },
  {
   "cell_type": "code",
   "execution_count": 37,
   "metadata": {},
   "outputs": [
    {
     "data": {
      "text/plain": [
       "array([[151, 180, 170, 143, 138],\n",
       "       [191, 189, 163, 147, 187],\n",
       "       [158, 188, 126, 123, 184],\n",
       "       [131, 148, 170, 144, 161]])"
      ]
     },
     "execution_count": 37,
     "metadata": {},
     "output_type": "execute_result"
    }
   ],
   "source": [
    "np.random.randint(100,200,20).reshape(4,5) #returns ten random int,"
   ]
  },
  {
   "cell_type": "code",
   "execution_count": 38,
   "metadata": {},
   "outputs": [
    {
     "data": {
      "text/plain": [
       "array([[1060, 1297, 1787, 1579, 1446, 1520, 1791, 1367],\n",
       "       [1784, 1938, 1982, 1726, 1438, 1269, 1649, 1040],\n",
       "       [1565, 1246, 1660, 1538, 1164, 1969, 1690, 1345],\n",
       "       [1580, 1484, 1992, 1151, 1689, 1812, 1582, 1754],\n",
       "       [1361, 1292, 1416, 1701, 1818, 1478, 1472, 1709]])"
      ]
     },
     "execution_count": 38,
     "metadata": {},
     "output_type": "execute_result"
    }
   ],
   "source": [
    "arr0 = np.random.randint(low=1000, high=2000, size=[5,8])\n",
    "arr0"
   ]
  },
  {
   "cell_type": "markdown",
   "metadata": {},
   "source": [
    "# `identity()` matrix"
   ]
  },
  {
   "cell_type": "code",
   "execution_count": 39,
   "metadata": {},
   "outputs": [
    {
     "data": {
      "text/plain": [
       "array([[1., 0., 0., 0., 0.],\n",
       "       [0., 1., 0., 0., 0.],\n",
       "       [0., 0., 1., 0., 0.],\n",
       "       [0., 0., 0., 1., 0.],\n",
       "       [0., 0., 0., 0., 1.]])"
      ]
     },
     "execution_count": 39,
     "metadata": {},
     "output_type": "execute_result"
    }
   ],
   "source": [
    "np.identity(5)"
   ]
  },
  {
   "cell_type": "code",
   "execution_count": 40,
   "metadata": {},
   "outputs": [
    {
     "data": {
      "text/plain": [
       "array([[1., 0., 0., 0., 0.],\n",
       "       [0., 1., 0., 0., 0.],\n",
       "       [0., 0., 1., 0., 0.],\n",
       "       [0., 0., 0., 1., 0.],\n",
       "       [0., 0., 0., 0., 1.]])"
      ]
     },
     "execution_count": 40,
     "metadata": {},
     "output_type": "execute_result"
    }
   ],
   "source": [
    "np.eye(5)"
   ]
  },
  {
   "cell_type": "markdown",
   "metadata": {},
   "source": [
    "## Array Methods & Attributes\n",
    "Some important Methods and Attributes are important to know:<br>\n",
    "\n",
    "### Methods:\n",
    "* reshape(), max(), min(), argmax(), argmin()<br>"
   ]
  },
  {
   "cell_type": "code",
   "execution_count": null,
   "metadata": {},
   "outputs": [],
   "source": [
    "# lets create 2 arrays using arange() and randint()\n",
    "array_ranint = np.random.randint(0,100,10)"
   ]
  },
  {
   "cell_type": "code",
   "execution_count": null,
   "metadata": {},
   "outputs": [],
   "source": [
    "array_ranint"
   ]
  },
  {
   "cell_type": "code",
   "execution_count": null,
   "metadata": {},
   "outputs": [],
   "source": []
  },
  {
   "cell_type": "markdown",
   "metadata": {},
   "source": [
    "#### `max()` & `min()`\n",
    "Useful methods for finding max or min values."
   ]
  },
  {
   "cell_type": "code",
   "execution_count": null,
   "metadata": {},
   "outputs": [],
   "source": [
    "array_ranint.min()"
   ]
  },
  {
   "cell_type": "code",
   "execution_count": null,
   "metadata": {},
   "outputs": [],
   "source": [
    "array_ranint.max()"
   ]
  },
  {
   "cell_type": "markdown",
   "metadata": {},
   "source": [
    "#### `argmax()` & `argmin()`\n",
    "To find the index locations of max and min values in array"
   ]
  },
  {
   "cell_type": "code",
   "execution_count": null,
   "metadata": {},
   "outputs": [],
   "source": [
    "array_ranint.argmax() # index starts from 0"
   ]
  },
  {
   "cell_type": "code",
   "execution_count": null,
   "metadata": {},
   "outputs": [],
   "source": [
    "array_ranint.argmin()"
   ]
  },
  {
   "cell_type": "markdown",
   "metadata": {},
   "source": [
    "### Attributes\n",
    "* `size, shape, dtype` "
   ]
  },
  {
   "cell_type": "code",
   "execution_count": 21,
   "metadata": {},
   "outputs": [],
   "source": [
    "array_arange=np.arange(16)"
   ]
  },
  {
   "cell_type": "code",
   "execution_count": 22,
   "metadata": {},
   "outputs": [
    {
     "data": {
      "text/plain": [
       "array([ 0,  1,  2,  3,  4,  5,  6,  7,  8,  9, 10, 11, 12, 13, 14, 15])"
      ]
     },
     "execution_count": 22,
     "metadata": {},
     "output_type": "execute_result"
    }
   ],
   "source": [
    "array_arange"
   ]
  },
  {
   "cell_type": "code",
   "execution_count": 23,
   "metadata": {},
   "outputs": [
    {
     "data": {
      "text/plain": [
       "(16,)"
      ]
     },
     "execution_count": 23,
     "metadata": {},
     "output_type": "execute_result"
    }
   ],
   "source": [
    "array_arange.shape"
   ]
  },
  {
   "cell_type": "code",
   "execution_count": 24,
   "metadata": {},
   "outputs": [
    {
     "data": {
      "text/plain": [
       "16"
      ]
     },
     "execution_count": 24,
     "metadata": {},
     "output_type": "execute_result"
    }
   ],
   "source": [
    "array_arange.size"
   ]
  },
  {
   "cell_type": "code",
   "execution_count": 25,
   "metadata": {},
   "outputs": [
    {
     "data": {
      "text/plain": [
       "4"
      ]
     },
     "execution_count": 25,
     "metadata": {},
     "output_type": "execute_result"
    }
   ],
   "source": [
    "# Size of the array \n",
    "array_arange.itemsize"
   ]
  },
  {
   "cell_type": "code",
   "execution_count": 26,
   "metadata": {},
   "outputs": [
    {
     "data": {
      "text/plain": [
       "dtype('int32')"
      ]
     },
     "execution_count": 26,
     "metadata": {},
     "output_type": "execute_result"
    }
   ],
   "source": [
    "# Type of the data.\n",
    "array_arange.dtype"
   ]
  },
  {
   "cell_type": "code",
   "execution_count": 27,
   "metadata": {},
   "outputs": [
    {
     "data": {
      "text/plain": [
       "array([[ 0,  1,  2,  3],\n",
       "       [ 4,  5,  6,  7],\n",
       "       [ 8,  9, 10, 11],\n",
       "       [12, 13, 14, 15]])"
      ]
     },
     "execution_count": 27,
     "metadata": {},
     "output_type": "execute_result"
    }
   ],
   "source": [
    "array_arange.reshape(4,4)"
   ]
  },
  {
   "cell_type": "code",
   "execution_count": 28,
   "metadata": {},
   "outputs": [
    {
     "data": {
      "text/plain": [
       "array([ 0,  1,  2,  3,  4,  5,  6,  7,  8,  9, 10, 11, 12, 13, 14, 15])"
      ]
     },
     "execution_count": 28,
     "metadata": {},
     "output_type": "execute_result"
    }
   ],
   "source": [
    "array_arange"
   ]
  },
  {
   "cell_type": "code",
   "execution_count": 45,
   "metadata": {},
   "outputs": [],
   "source": [
    "array_arange.shape = (4,4)"
   ]
  },
  {
   "cell_type": "code",
   "execution_count": 46,
   "metadata": {},
   "outputs": [
    {
     "data": {
      "text/plain": [
       "array([[ 0,  1,  2,  3],\n",
       "       [ 4,  5,  6,  7],\n",
       "       [ 8,  9, 10, 11],\n",
       "       [12, 13, 14, 15]])"
      ]
     },
     "execution_count": 46,
     "metadata": {},
     "output_type": "execute_result"
    }
   ],
   "source": [
    "array_arange"
   ]
  },
  {
   "cell_type": "code",
   "execution_count": 47,
   "metadata": {},
   "outputs": [
    {
     "data": {
      "text/plain": [
       "array([[ 0,  1,  2,  3,  4,  5,  6,  7,  8,  9, 10, 11, 12, 13, 14, 15]])"
      ]
     },
     "execution_count": 47,
     "metadata": {},
     "output_type": "execute_result"
    }
   ],
   "source": [
    "array_arange.reshape(1,16)"
   ]
  },
  {
   "cell_type": "code",
   "execution_count": 48,
   "metadata": {},
   "outputs": [
    {
     "data": {
      "text/plain": [
       "array([[ 0,  1,  2,  3],\n",
       "       [ 4,  5,  6,  7],\n",
       "       [ 8,  9, 10, 11],\n",
       "       [12, 13, 14, 15]])"
      ]
     },
     "execution_count": 48,
     "metadata": {},
     "output_type": "execute_result"
    }
   ],
   "source": [
    "array_arange"
   ]
  },
  {
   "cell_type": "code",
   "execution_count": 49,
   "metadata": {},
   "outputs": [
    {
     "data": {
      "text/plain": [
       "(1, 16)"
      ]
     },
     "execution_count": 49,
     "metadata": {},
     "output_type": "execute_result"
    }
   ],
   "source": [
    "array_arange.reshape(1,16).shape"
   ]
  },
  {
   "cell_type": "markdown",
   "metadata": {},
   "source": [
    "### Indexing & slicing of 1-D arrays (vectors)"
   ]
  },
  {
   "cell_type": "code",
   "execution_count": 35,
   "metadata": {},
   "outputs": [],
   "source": [
    "array_1d = np.array([-10, -2, 0, 2, 17, 106,200])"
   ]
  },
  {
   "cell_type": "code",
   "execution_count": 36,
   "metadata": {},
   "outputs": [
    {
     "data": {
      "text/plain": [
       "array([-10,  -2,   0,   2,  17, 106, 200])"
      ]
     },
     "execution_count": 36,
     "metadata": {},
     "output_type": "execute_result"
    }
   ],
   "source": [
    "array_1d"
   ]
  },
  {
   "cell_type": "code",
   "execution_count": 37,
   "metadata": {},
   "outputs": [
    {
     "data": {
      "text/plain": [
       "0"
      ]
     },
     "execution_count": 37,
     "metadata": {},
     "output_type": "execute_result"
    }
   ],
   "source": [
    "array_1d[2]"
   ]
  },
  {
   "cell_type": "code",
   "execution_count": 38,
   "metadata": {},
   "outputs": [
    {
     "data": {
      "text/plain": [
       "array([-10,  -2,   0])"
      ]
     },
     "execution_count": 38,
     "metadata": {},
     "output_type": "execute_result"
    }
   ],
   "source": [
    "# Getting a range value\n",
    "array_1d[0:3]"
   ]
  },
  {
   "cell_type": "code",
   "execution_count": 39,
   "metadata": {},
   "outputs": [
    {
     "data": {
      "text/plain": [
       "106"
      ]
     },
     "execution_count": 39,
     "metadata": {},
     "output_type": "execute_result"
    }
   ],
   "source": [
    "# Using -ve index \n",
    "array_1d[-2]"
   ]
  },
  {
   "cell_type": "code",
   "execution_count": 40,
   "metadata": {},
   "outputs": [
    {
     "data": {
      "text/plain": [
       "array([-2,  0,  2, 17])"
      ]
     },
     "execution_count": 40,
     "metadata": {},
     "output_type": "execute_result"
    }
   ],
   "source": [
    "# Using -ve index for a range \n",
    "array_1d[1:-2]"
   ]
  },
  {
   "cell_type": "code",
   "execution_count": 8,
   "metadata": {},
   "outputs": [
    {
     "data": {
      "text/plain": [
       "array([-10,  -2,   0,   2,  17, 106, 200])"
      ]
     },
     "execution_count": 8,
     "metadata": {},
     "output_type": "execute_result"
    }
   ],
   "source": [
    "array_1d"
   ]
  },
  {
   "cell_type": "code",
   "execution_count": 41,
   "metadata": {},
   "outputs": [
    {
     "data": {
      "text/plain": [
       "array([-10,  -2])"
      ]
     },
     "execution_count": 41,
     "metadata": {},
     "output_type": "execute_result"
    }
   ],
   "source": [
    "array_1d[:2]"
   ]
  },
  {
   "cell_type": "code",
   "execution_count": 42,
   "metadata": {},
   "outputs": [
    {
     "data": {
      "text/plain": [
       "array([  0,   2,  17, 106, 200])"
      ]
     },
     "execution_count": 42,
     "metadata": {},
     "output_type": "execute_result"
    }
   ],
   "source": [
    "array_1d[2:]"
   ]
  },
  {
   "cell_type": "code",
   "execution_count": 43,
   "metadata": {},
   "outputs": [],
   "source": [
    "# Assigning a new value to a certain index in the array \n",
    "array_1d[0] = -102"
   ]
  },
  {
   "cell_type": "code",
   "execution_count": 44,
   "metadata": {},
   "outputs": [
    {
     "data": {
      "text/plain": [
       "array([-102,   -2,    0,    2,   17,  106,  200])"
      ]
     },
     "execution_count": 44,
     "metadata": {},
     "output_type": "execute_result"
    }
   ],
   "source": [
    "array_1d\n",
    "# The first element is changed to -102"
   ]
  },
  {
   "cell_type": "markdown",
   "metadata": {},
   "source": [
    "###  Indexing & slicing 2-D arrays (matrices)\n",
    "\n",
    "Lets create an array with 24 elements using arange() and convert it to 2D matrix using \"shape\".<br>\n",
    "*note, 6 x 4 = 24*"
   ]
  },
  {
   "cell_type": "code",
   "execution_count": 29,
   "metadata": {},
   "outputs": [
    {
     "data": {
      "text/plain": [
       "array([[ 0,  1,  2,  3],\n",
       "       [ 4,  5,  6,  7],\n",
       "       [ 8,  9, 10, 11],\n",
       "       [12, 13, 14, 15],\n",
       "       [16, 17, 18, 19],\n",
       "       [20, 21, 22, 23]])"
      ]
     },
     "execution_count": 29,
     "metadata": {},
     "output_type": "execute_result"
    }
   ],
   "source": [
    "array_2d = np.arange(24)\n",
    "array_2d = array_2d.reshape(6,4)\n",
    "array_2d"
   ]
  },
  {
   "cell_type": "code",
   "execution_count": 57,
   "metadata": {},
   "outputs": [
    {
     "data": {
      "text/plain": [
       "array([0, 1, 2, 3])"
      ]
     },
     "execution_count": 57,
     "metadata": {},
     "output_type": "execute_result"
    }
   ],
   "source": [
    "array_2d = np.arange(0,4)\n",
    "array_2d"
   ]
  },
  {
   "cell_type": "markdown",
   "metadata": {},
   "source": [
    "To access any element, the general format is: <br>\n",
    "* **`array_2d[row][col]`** <br>or<br> \n",
    "* **`array_2d[row,col]`**. \n",
    "\n",
    "We will use `[row,col]`, easier to use comma ',' for clarity."
   ]
  },
  {
   "cell_type": "code",
   "execution_count": 14,
   "metadata": {},
   "outputs": [
    {
     "data": {
      "text/plain": [
       "array([ 8,  9, 10, 11])"
      ]
     },
     "execution_count": 14,
     "metadata": {},
     "output_type": "execute_result"
    }
   ],
   "source": [
    "# To get a complete row\n",
    "array_2d[2]"
   ]
  },
  {
   "cell_type": "code",
   "execution_count": 15,
   "metadata": {},
   "outputs": [
    {
     "data": {
      "text/plain": [
       "array([ 8,  9, 10, 11])"
      ]
     },
     "execution_count": 15,
     "metadata": {},
     "output_type": "execute_result"
    }
   ],
   "source": [
    "array_2d[-4] # -0 and 0 is same inedex"
   ]
  },
  {
   "cell_type": "code",
   "execution_count": 16,
   "metadata": {},
   "outputs": [
    {
     "data": {
      "text/plain": [
       "array([[ 0,  1,  2,  3],\n",
       "       [ 4,  5,  6,  7],\n",
       "       [ 8,  9, 10, 11],\n",
       "       [12, 13, 14, 15],\n",
       "       [16, 17, 18, 19],\n",
       "       [20, 21, 22, 23]])"
      ]
     },
     "execution_count": 16,
     "metadata": {},
     "output_type": "execute_result"
    }
   ],
   "source": [
    "array_2d"
   ]
  },
  {
   "cell_type": "code",
   "execution_count": 30,
   "metadata": {},
   "outputs": [
    {
     "data": {
      "text/plain": [
       "22"
      ]
     },
     "execution_count": 30,
     "metadata": {},
     "output_type": "execute_result"
    }
   ],
   "source": [
    "# another way \n",
    "row = 5\n",
    "column = 2\n",
    "array_2d[row, column]"
   ]
  },
  {
   "cell_type": "code",
   "execution_count": 18,
   "metadata": {},
   "outputs": [
    {
     "data": {
      "text/plain": [
       "22"
      ]
     },
     "execution_count": 18,
     "metadata": {},
     "output_type": "execute_result"
    }
   ],
   "source": [
    "# Just to make sure, using [row][col] :)\n",
    "array_2d[5][2]"
   ]
  },
  {
   "cell_type": "code",
   "execution_count": 19,
   "metadata": {},
   "outputs": [
    {
     "data": {
      "text/plain": [
       "array([[ 0,  1,  2,  3],\n",
       "       [ 4,  5,  6,  7],\n",
       "       [ 8,  9, 10, 11],\n",
       "       [12, 13, 14, 15],\n",
       "       [16, 17, 18, 19],\n",
       "       [20, 21, 22, 23]])"
      ]
     },
     "execution_count": 19,
     "metadata": {},
     "output_type": "execute_result"
    }
   ],
   "source": [
    "array_2d"
   ]
  },
  {
   "cell_type": "code",
   "execution_count": 20,
   "metadata": {},
   "outputs": [
    {
     "data": {
      "text/plain": [
       "array([[0, 1],\n",
       "       [4, 5]])"
      ]
     },
     "execution_count": 20,
     "metadata": {},
     "output_type": "execute_result"
    }
   ],
   "source": [
    "# 2D array slicing\n",
    "array_2d[:2,:2] "
   ]
  },
  {
   "cell_type": "code",
   "execution_count": 32,
   "metadata": {},
   "outputs": [
    {
     "data": {
      "text/plain": [
       "array([[ 0,  1,  2,  3],\n",
       "       [ 8,  9, 10, 11],\n",
       "       [12, 13, 14, 15]])"
      ]
     },
     "execution_count": 32,
     "metadata": {},
     "output_type": "execute_result"
    }
   ],
   "source": [
    "array_2d[[0,2,3]]"
   ]
  },
  {
   "cell_type": "code",
   "execution_count": 33,
   "metadata": {},
   "outputs": [
    {
     "data": {
      "text/plain": [
       "array([[ 2],\n",
       "       [ 6],\n",
       "       [10],\n",
       "       [14],\n",
       "       [18],\n",
       "       [22]])"
      ]
     },
     "execution_count": 33,
     "metadata": {},
     "output_type": "execute_result"
    }
   ],
   "source": [
    "array_2d[:,[2]]"
   ]
  },
  {
   "cell_type": "code",
   "execution_count": 34,
   "metadata": {},
   "outputs": [
    {
     "data": {
      "text/plain": [
       "array([[12, 13, 14, 15],\n",
       "       [ 0,  1,  2,  3],\n",
       "       [ 4,  5,  6,  7]])"
      ]
     },
     "execution_count": 34,
     "metadata": {},
     "output_type": "execute_result"
    }
   ],
   "source": [
    "array_2d[[3,0,1]]"
   ]
  },
  {
   "cell_type": "markdown",
   "metadata": {},
   "source": [
    "### Broadcasting\n",
    "\n",
    "Numpy arrays are different from normal Python lists because of their ability to broadcast. We will only cover the basics, for further details on broadcasting rules, click [here](https://docs.scipy.org/doc/numpy/user/basics.broadcasting.html) <br>\n",
    "Another good read on [broadcasting](https://jakevdp.github.io/PythonDataScienceHandbook/02.05-computation-on-arrays-broadcasting.html)!<br>\n",
    "\n",
    "**Lets start with some simple examples:**"
   ]
  },
  {
   "cell_type": "code",
   "execution_count": 31,
   "metadata": {},
   "outputs": [
    {
     "data": {
      "text/plain": [
       "array([0, 1, 2, 3, 4, 5, 6, 7, 8, 9])"
      ]
     },
     "execution_count": 31,
     "metadata": {},
     "output_type": "execute_result"
    }
   ],
   "source": [
    "# Lets create an array using arange()\n",
    "array_1d = np.arange(0,10)\n",
    "array_1d"
   ]
  },
  {
   "cell_type": "markdown",
   "metadata": {},
   "source": [
    "Take a slice of the array and set it equal to some number, say 500.<br>\n",
    "\n",
    "        array_1d[0:5] = 500 \n",
    "this will **broadcast the value of 500 to the first 5 elements** of the array_1d"
   ]
  },
  {
   "cell_type": "code",
   "execution_count": 65,
   "metadata": {},
   "outputs": [
    {
     "data": {
      "text/plain": [
       "array([500, 500, 500, 500, 500, 106, 200])"
      ]
     },
     "execution_count": 65,
     "metadata": {},
     "output_type": "execute_result"
    }
   ],
   "source": [
    "array_1d[0:5] = 500 \n",
    "array_1d"
   ]
  },
  {
   "cell_type": "code",
   "execution_count": 66,
   "metadata": {},
   "outputs": [
    {
     "data": {
      "text/plain": [
       "array([[1, 1, 1, 1],\n",
       "       [1, 1, 1, 1],\n",
       "       [1, 1, 1, 1],\n",
       "       [1, 1, 1, 1]])"
      ]
     },
     "execution_count": 66,
     "metadata": {},
     "output_type": "execute_result"
    }
   ],
   "source": [
    "# Lets create a 2D martix with ones\n",
    "array_2d = np.ones((4,4), dtype=int)\n",
    "array_2d"
   ]
  },
  {
   "cell_type": "code",
   "execution_count": 67,
   "metadata": {},
   "outputs": [
    {
     "data": {
      "text/plain": [
       "array([[300, 300, 300, 300],\n",
       "       [  1,   1,   1,   1],\n",
       "       [  1,   1,   1,   1],\n",
       "       [  1,   1,   1,   1]])"
      ]
     },
     "execution_count": 67,
     "metadata": {},
     "output_type": "execute_result"
    }
   ],
   "source": [
    "# Lets broadcast 300 to the first row of array_2d\n",
    "array_2d[0] = 300\n",
    "array_2d"
   ]
  },
  {
   "cell_type": "code",
   "execution_count": 68,
   "metadata": {},
   "outputs": [
    {
     "data": {
      "text/plain": [
       "array([[600, 600, 600, 600],\n",
       "       [301, 301, 301, 301],\n",
       "       [301, 301, 301, 301],\n",
       "       [301, 301, 301, 301]])"
      ]
     },
     "execution_count": 68,
     "metadata": {},
     "output_type": "execute_result"
    }
   ],
   "source": [
    "array_2d + 300"
   ]
  },
  {
   "cell_type": "code",
   "execution_count": 69,
   "metadata": {},
   "outputs": [
    {
     "data": {
      "text/plain": [
       "array([[300, 301, 302, 303],\n",
       "       [  1,   2,   3,   4],\n",
       "       [  1,   2,   3,   4],\n",
       "       [  1,   2,   3,   4]])"
      ]
     },
     "execution_count": 69,
     "metadata": {},
     "output_type": "execute_result"
    }
   ],
   "source": [
    "# Lets create a simple 1-D array and broadcast to array_2d\n",
    "array_2d + np.arange(0,4)  #[0,1,2,3]\n",
    "# try array_2d + np.arange(0,3), did this work? if not why?"
   ]
  },
  {
   "cell_type": "code",
   "execution_count": 70,
   "metadata": {},
   "outputs": [
    {
     "data": {
      "text/plain": [
       "array([[300, 300, 300, 300],\n",
       "       [  1,   1,   1,   1],\n",
       "       [  1,   1,   1,   1],\n",
       "       [  1,   1,   1,   1]])"
      ]
     },
     "execution_count": 70,
     "metadata": {},
     "output_type": "execute_result"
    }
   ],
   "source": [
    "array_2d"
   ]
  },
  {
   "cell_type": "code",
   "execution_count": 71,
   "metadata": {},
   "outputs": [
    {
     "data": {
      "text/plain": [
       "array([[  0, 300, 600, 900],\n",
       "       [  0,   1,   2,   3],\n",
       "       [  0,   1,   2,   3],\n",
       "       [  0,   1,   2,   3]])"
      ]
     },
     "execution_count": 71,
     "metadata": {},
     "output_type": "execute_result"
    }
   ],
   "source": [
    "array_2d * np.arange(0,4)"
   ]
  },
  {
   "cell_type": "code",
   "execution_count": 72,
   "metadata": {},
   "outputs": [
    {
     "data": {
      "text/plain": [
       "array([[600, 600, 600, 600],\n",
       "       [301, 301, 301, 301],\n",
       "       [301, 301, 301, 301],\n",
       "       [301, 301, 301, 301]])"
      ]
     },
     "execution_count": 72,
     "metadata": {},
     "output_type": "execute_result"
    }
   ],
   "source": [
    "array_2d + 300\n",
    "# array_2d + [300,2], did it work? if not why?"
   ]
  },
  {
   "cell_type": "code",
   "execution_count": 73,
   "metadata": {},
   "outputs": [
    {
     "data": {
      "text/plain": [
       "array([[300, 300, 300, 300],\n",
       "       [  1,   1,   1,   1],\n",
       "       [  1,   1,   1,   1],\n",
       "       [  1,   1,   1,   1]])"
      ]
     },
     "execution_count": 73,
     "metadata": {},
     "output_type": "execute_result"
    }
   ],
   "source": [
    "array_2d"
   ]
  },
  {
   "cell_type": "code",
   "execution_count": 74,
   "metadata": {},
   "outputs": [
    {
     "data": {
      "text/plain": [
       "array([[1, 1, 1, 1],\n",
       "       [1, 1, 1, 1]])"
      ]
     },
     "execution_count": 74,
     "metadata": {},
     "output_type": "execute_result"
    }
   ],
   "source": [
    "array_2d[[3, 1]]"
   ]
  },
  {
   "cell_type": "code",
   "execution_count": 75,
   "metadata": {},
   "outputs": [
    {
     "data": {
      "text/plain": [
       "array([[300],\n",
       "       [  1],\n",
       "       [  1],\n",
       "       [  1]])"
      ]
     },
     "execution_count": 75,
     "metadata": {},
     "output_type": "execute_result"
    }
   ],
   "source": [
    "array_2d[:,[2]]"
   ]
  },
  {
   "cell_type": "code",
   "execution_count": 76,
   "metadata": {},
   "outputs": [
    {
     "data": {
      "text/plain": [
       "array([[300, 300, 300, 300],\n",
       "       [  1,   1,   1,   1],\n",
       "       [  1,   1,   1,   1],\n",
       "       [  1,   1,   1,   1]])"
      ]
     },
     "execution_count": 76,
     "metadata": {},
     "output_type": "execute_result"
    }
   ],
   "source": [
    "array_2d"
   ]
  },
  {
   "cell_type": "code",
   "execution_count": 77,
   "metadata": {},
   "outputs": [
    {
     "data": {
      "text/plain": [
       "array([[1, 1, 1, 1],\n",
       "       [1, 1, 1, 1]])"
      ]
     },
     "execution_count": 77,
     "metadata": {},
     "output_type": "execute_result"
    }
   ],
   "source": [
    "# We can use any order\n",
    "array_2d[[3, 1]]"
   ]
  },
  {
   "cell_type": "code",
   "execution_count": 78,
   "metadata": {},
   "outputs": [
    {
     "data": {
      "text/plain": [
       "array([[ 0,  1,  2,  3],\n",
       "       [ 4,  5,  6,  7],\n",
       "       [ 8,  9, 10, 11],\n",
       "       [12, 13, 14, 15],\n",
       "       [16, 17, 18, 19],\n",
       "       [20, 21, 22, 23]])"
      ]
     },
     "execution_count": 78,
     "metadata": {},
     "output_type": "execute_result"
    }
   ],
   "source": [
    "# lets try another matrix\n",
    "array_2d = np.arange(24)\n",
    "array_2d.shape = (6,4)\n",
    "array_2d"
   ]
  },
  {
   "cell_type": "code",
   "execution_count": 79,
   "metadata": {},
   "outputs": [
    {
     "data": {
      "text/plain": [
       "array([[ 8,  9, 10, 11],\n",
       "       [12, 13, 14, 15]])"
      ]
     },
     "execution_count": 79,
     "metadata": {},
     "output_type": "execute_result"
    }
   ],
   "source": [
    "# grabbing rows\n",
    "array_2d[[2,3]] #[2][3]"
   ]
  },
  {
   "cell_type": "code",
   "execution_count": 80,
   "metadata": {},
   "outputs": [
    {
     "data": {
      "text/plain": [
       "array([[ 2,  3],\n",
       "       [ 6,  7],\n",
       "       [10, 11]])"
      ]
     },
     "execution_count": 80,
     "metadata": {},
     "output_type": "execute_result"
    }
   ],
   "source": [
    "array_2d[:3, [2,3]]"
   ]
  },
  {
   "cell_type": "code",
   "execution_count": 81,
   "metadata": {},
   "outputs": [
    {
     "data": {
      "text/plain": [
       "array([[ 3,  2],\n",
       "       [ 7,  6],\n",
       "       [11, 10],\n",
       "       [15, 14],\n",
       "       [19, 18],\n",
       "       [23, 22]])"
      ]
     },
     "execution_count": 81,
     "metadata": {},
     "output_type": "execute_result"
    }
   ],
   "source": [
    "# grabbing columns\n",
    "#array_2d[:,3:2]\n",
    "array_2d[:,[3,2]]"
   ]
  },
  {
   "cell_type": "code",
   "execution_count": 82,
   "metadata": {},
   "outputs": [
    {
     "data": {
      "text/plain": [
       "array([ 1,  2,  3,  4,  5,  6,  7,  8,  9, 10])"
      ]
     },
     "execution_count": 82,
     "metadata": {},
     "output_type": "execute_result"
    }
   ],
   "source": [
    "# Lets create a simple array using arange()\n",
    "array_1d = np.arange(1,11)\n",
    "array_1d"
   ]
  },
  {
   "cell_type": "markdown",
   "metadata": {},
   "source": [
    "We can apply condition such as >, <, == etc"
   ]
  },
  {
   "cell_type": "code",
   "execution_count": 83,
   "metadata": {},
   "outputs": [
    {
     "data": {
      "text/plain": [
       "array([False, False, False,  True,  True,  True,  True,  True,  True,\n",
       "        True])"
      ]
     },
     "execution_count": 83,
     "metadata": {},
     "output_type": "execute_result"
    }
   ],
   "source": [
    "array_1d > 3"
   ]
  },
  {
   "cell_type": "code",
   "execution_count": 84,
   "metadata": {},
   "outputs": [
    {
     "data": {
      "text/plain": [
       "array([False, False, False,  True,  True,  True,  True,  True,  True,\n",
       "        True])"
      ]
     },
     "execution_count": 84,
     "metadata": {},
     "output_type": "execute_result"
    }
   ],
   "source": [
    "# lets create a bool_array for some condition, say array_1d > 3\n",
    "bool_array = array_1d > 3\n",
    "bool_array"
   ]
  },
  {
   "cell_type": "markdown",
   "metadata": {},
   "source": [
    "Lets create a mask to **filter out the even numbers in \"array_1d\"**"
   ]
  },
  {
   "cell_type": "code",
   "execution_count": 85,
   "metadata": {},
   "outputs": [
    {
     "data": {
      "text/plain": [
       "array([1, 0, 1, 0, 1, 0, 1, 0, 1, 0], dtype=int32)"
      ]
     },
     "execution_count": 85,
     "metadata": {},
     "output_type": "execute_result"
    }
   ],
   "source": [
    "array_1d % 2"
   ]
  },
  {
   "cell_type": "code",
   "execution_count": 86,
   "metadata": {},
   "outputs": [
    {
     "data": {
      "text/plain": [
       "array([False,  True, False,  True, False,  True, False,  True, False,\n",
       "        True])"
      ]
     },
     "execution_count": 86,
     "metadata": {},
     "output_type": "execute_result"
    }
   ],
   "source": [
    "0 == array_1d % 2"
   ]
  },
  {
   "cell_type": "code",
   "execution_count": 87,
   "metadata": {},
   "outputs": [
    {
     "data": {
      "text/plain": [
       "array([ True, False,  True, False,  True, False,  True, False,  True,\n",
       "       False])"
      ]
     },
     "execution_count": 87,
     "metadata": {},
     "output_type": "execute_result"
    }
   ],
   "source": [
    "# A number is even if, number % 2 is \"0\"\n",
    "mod_2_mask_1d = array_1d % 2 != 0 \n",
    "mod_2_mask_1d"
   ]
  },
  {
   "cell_type": "code",
   "execution_count": 88,
   "metadata": {},
   "outputs": [
    {
     "data": {
      "text/plain": [
       "array([ 1,  2,  3,  4,  5,  6,  7,  8,  9, 10])"
      ]
     },
     "execution_count": 88,
     "metadata": {},
     "output_type": "execute_result"
    }
   ],
   "source": [
    "array_1d"
   ]
  },
  {
   "cell_type": "code",
   "execution_count": 89,
   "metadata": {},
   "outputs": [
    {
     "data": {
      "text/plain": [
       "array([1, 3, 5, 7, 9])"
      ]
     },
     "execution_count": 89,
     "metadata": {},
     "output_type": "execute_result"
    }
   ],
   "source": [
    "array_1d[mod_2_mask_1d] #array_1d[[False,  True, False,  True, False,  True, False,  True, False,True]]"
   ]
  },
  {
   "cell_type": "markdown",
   "metadata": {},
   "source": [
    "## NumPy Operations \n",
    "\n",
    "Hi Guys,<br>\n",
    "Welcome to the NumPy Essentials lecture part 2.<br>\n",
    "\n",
    "Let's talk about NumPy operations in this section, such as:\n",
    "\n",
    "* <b>Arithmetic operations</b>\n",
    "* <b>Universal Functions (ufunc)</b>\n",
    " "
   ]
  },
  {
   "cell_type": "markdown",
   "metadata": {},
   "source": [
    "## Arithmetic operations\n",
    "\n",
    "We can perform arithmetic operations with NumPy arrays. <br>\n",
    "Let's learn with examples:"
   ]
  },
  {
   "cell_type": "code",
   "execution_count": 90,
   "metadata": {},
   "outputs": [
    {
     "data": {
      "text/plain": [
       "array([0, 1, 2, 3, 4])"
      ]
     },
     "execution_count": 90,
     "metadata": {},
     "output_type": "execute_result"
    }
   ],
   "source": [
    "# Let's create an array using arange() method\n",
    "arr = np.arange(0,5)\n",
    "arr  "
   ]
  },
  {
   "cell_type": "code",
   "execution_count": 91,
   "metadata": {},
   "outputs": [
    {
     "data": {
      "text/plain": [
       "array([0, 2, 4, 6, 8])"
      ]
     },
     "execution_count": 91,
     "metadata": {},
     "output_type": "execute_result"
    }
   ],
   "source": [
    "# Adding two arrays\n",
    "arr + arr  #[0, 1, 2, 3, 4] + [0, 1, 2, 3, 4]"
   ]
  },
  {
   "cell_type": "code",
   "execution_count": 92,
   "metadata": {},
   "outputs": [
    {
     "data": {
      "text/plain": [
       "array([0, 0, 0, 0, 0])"
      ]
     },
     "execution_count": 92,
     "metadata": {},
     "output_type": "execute_result"
    }
   ],
   "source": [
    "# Subtracting two arrays\n",
    "arr - arr"
   ]
  },
  {
   "cell_type": "code",
   "execution_count": 93,
   "metadata": {},
   "outputs": [
    {
     "data": {
      "text/plain": [
       "array([ 0,  1,  4,  9, 16])"
      ]
     },
     "execution_count": 93,
     "metadata": {},
     "output_type": "execute_result"
    }
   ],
   "source": [
    "# Multiplication\n",
    "arr * arr"
   ]
  },
  {
   "cell_type": "code",
   "execution_count": 94,
   "metadata": {},
   "outputs": [
    {
     "name": "stderr",
     "output_type": "stream",
     "text": [
      "C:\\Users\\hp\\AppData\\Local\\Temp\\ipykernel_2004\\1371265232.py:2: RuntimeWarning: invalid value encountered in divide\n",
      "  arr / arr\n"
     ]
    },
    {
     "data": {
      "text/plain": [
       "array([nan,  1.,  1.,  1.,  1.])"
      ]
     },
     "execution_count": 94,
     "metadata": {},
     "output_type": "execute_result"
    }
   ],
   "source": [
    "# Division\n",
    "arr / arr\n",
    "# warning and 0/0 is replaced with nan"
   ]
  },
  {
   "cell_type": "code",
   "execution_count": 95,
   "metadata": {},
   "outputs": [
    {
     "name": "stderr",
     "output_type": "stream",
     "text": [
      "C:\\Users\\hp\\AppData\\Local\\Temp\\ipykernel_2004\\1491116826.py:1: RuntimeWarning: divide by zero encountered in divide\n",
      "  1/arr #[0, 1, 2, 3, 4]\n"
     ]
    },
    {
     "data": {
      "text/plain": [
       "array([       inf, 1.        , 0.5       , 0.33333333, 0.25      ])"
      ]
     },
     "execution_count": 95,
     "metadata": {},
     "output_type": "execute_result"
    }
   ],
   "source": [
    "1/arr #[0, 1, 2, 3, 4]\n",
    "# warning for 1/0, inf"
   ]
  },
  {
   "cell_type": "code",
   "execution_count": 96,
   "metadata": {},
   "outputs": [
    {
     "data": {
      "text/plain": [
       "array([ 0,  1,  4,  9, 16])"
      ]
     },
     "execution_count": 96,
     "metadata": {},
     "output_type": "execute_result"
    }
   ],
   "source": [
    "# Power of all the elements in an array\n",
    "arr ** 2"
   ]
  },
  {
   "cell_type": "code",
   "execution_count": 97,
   "metadata": {},
   "outputs": [
    {
     "data": {
      "text/plain": [
       "array([0, 2, 4, 6, 8])"
      ]
     },
     "execution_count": 97,
     "metadata": {},
     "output_type": "execute_result"
    }
   ],
   "source": [
    "# Multiplication with scalar \n",
    "2 * arr #[0, 1, 2, 3, 4]"
   ]
  },
  {
   "cell_type": "markdown",
   "metadata": {},
   "source": [
    "## Universal functions\n",
    "\n",
    "NumPy have a range of built-in [universal functions](http://docs.scipy.org/doc/numpy/reference/ufuncs.html) (ufunc). These are essentially just mathematical operations and we can use them to perform specific task, associate with the function, across the NumPy array.<br>\n",
    "Let's learn with examples:"
   ]
  },
  {
   "cell_type": "code",
   "execution_count": 98,
   "metadata": {},
   "outputs": [
    {
     "data": {
      "text/plain": [
       "array([0.        , 1.        , 1.41421356, 1.73205081, 2.        ])"
      ]
     },
     "execution_count": 98,
     "metadata": {},
     "output_type": "execute_result"
    }
   ],
   "source": [
    "# Square root\n",
    "np.sqrt(arr) #[0, 1, 2, 3, 4]"
   ]
  },
  {
   "cell_type": "code",
   "execution_count": 100,
   "metadata": {},
   "outputs": [
    {
     "data": {
      "text/plain": [
       "(4, 0)"
      ]
     },
     "execution_count": 100,
     "metadata": {},
     "output_type": "execute_result"
    }
   ],
   "source": [
    "# max and min values\n",
    "np.max(arr), np.min(arr)"
   ]
  },
  {
   "cell_type": "code",
   "execution_count": 101,
   "metadata": {},
   "outputs": [
    {
     "data": {
      "text/plain": [
       "4"
      ]
     },
     "execution_count": 101,
     "metadata": {},
     "output_type": "execute_result"
    }
   ],
   "source": [
    "arr.max()"
   ]
  },
  {
   "cell_type": "code",
   "execution_count": 102,
   "metadata": {},
   "outputs": [
    {
     "data": {
      "text/plain": [
       "array([ 0.        ,  0.84147098,  0.90929743,  0.14112001, -0.7568025 ])"
      ]
     },
     "execution_count": 102,
     "metadata": {},
     "output_type": "execute_result"
    }
   ],
   "source": [
    "# Trigonometric functions, e.g. sin, cos, tan, arcsin, ......\n",
    "np.sin(arr)"
   ]
  },
  {
   "cell_type": "markdown",
   "metadata": {},
   "source": [
    "**Generate the follow matrix \"array_2d\" and replicate the provided outputs.**"
   ]
  },
  {
   "cell_type": "code",
   "execution_count": null,
   "metadata": {},
   "outputs": [],
   "source": [
    "#18a:\n",
    "# To avoid overwriting the output, please code here "
   ]
  },
  {
   "cell_type": "code",
   "execution_count": 103,
   "metadata": {
    "scrolled": true
   },
   "outputs": [
    {
     "data": {
      "text/plain": [
       "array([[ 0,  1,  2,  3,  4],\n",
       "       [ 5,  6,  7,  8,  9],\n",
       "       [10, 11, 12, 13, 14],\n",
       "       [15, 16, 17, 18, 19],\n",
       "       [20, 21, 22, 23, 24],\n",
       "       [25, 26, 27, 28, 29]])"
      ]
     },
     "execution_count": 103,
     "metadata": {},
     "output_type": "execute_result"
    }
   ],
   "source": [
    "array_2d= np.arange(30).reshape(6,5)\n",
    "array_2d"
   ]
  },
  {
   "cell_type": "markdown",
   "metadata": {},
   "source": [
    "**Calculate the sum of all the numbers in array_2d?**"
   ]
  },
  {
   "cell_type": "code",
   "execution_count": 104,
   "metadata": {},
   "outputs": [
    {
     "data": {
      "text/plain": [
       "435"
      ]
     },
     "execution_count": 104,
     "metadata": {},
     "output_type": "execute_result"
    }
   ],
   "source": [
    "array_2d.sum()"
   ]
  },
  {
   "cell_type": "code",
   "execution_count": 105,
   "metadata": {},
   "outputs": [
    {
     "data": {
      "text/plain": [
       "array([ 10,  35,  60,  85, 110, 135])"
      ]
     },
     "execution_count": 105,
     "metadata": {},
     "output_type": "execute_result"
    }
   ],
   "source": [
    "array_2d.sum(axis=1)"
   ]
  },
  {
   "cell_type": "markdown",
   "metadata": {},
   "source": [
    "**Calculate sum of all the rows and columns in array_2d.**"
   ]
  },
  {
   "cell_type": "code",
   "execution_count": null,
   "metadata": {},
   "outputs": [],
   "source": [
    "# To avoid overwriting the output, please code here "
   ]
  },
  {
   "cell_type": "code",
   "execution_count": 107,
   "metadata": {},
   "outputs": [
    {
     "name": "stdout",
     "output_type": "stream",
     "text": [
      "Row sum: [ 10  35  60  85 110 135]\n",
      "Columns sum: [75 81 87 93 99]\n"
     ]
    }
   ],
   "source": [
    "print(\"Row sum:\", array_2d.sum(axis=1))\n",
    "print(\"Columns sum:\", array_2d.sum(axis=0))"
   ]
  },
  {
   "cell_type": "markdown",
   "metadata": {},
   "source": [
    "**Calculate the standard deviation of the values in array_2d.**"
   ]
  },
  {
   "cell_type": "code",
   "execution_count": null,
   "metadata": {},
   "outputs": [],
   "source": [
    "# To avoid overwriting the output, please code here "
   ]
  },
  {
   "cell_type": "code",
   "execution_count": 108,
   "metadata": {},
   "outputs": [
    {
     "data": {
      "text/plain": [
       "8.65544144839919"
      ]
     },
     "execution_count": 108,
     "metadata": {},
     "output_type": "execute_result"
    }
   ],
   "source": [
    "array_2d.std()"
   ]
  },
  {
   "cell_type": "markdown",
   "metadata": {},
   "source": [
    "**Create a boolean mask and list out the numbers that are not divisible by 3 in array_2d.**"
   ]
  },
  {
   "cell_type": "code",
   "execution_count": null,
   "metadata": {},
   "outputs": [],
   "source": [
    "# To avoid overwriting the output, please code here "
   ]
  },
  {
   "cell_type": "code",
   "execution_count": 109,
   "metadata": {},
   "outputs": [
    {
     "data": {
      "text/plain": [
       "array([[ 0,  1,  2,  3,  4],\n",
       "       [ 5,  6,  7,  8,  9],\n",
       "       [10, 11, 12, 13, 14],\n",
       "       [15, 16, 17, 18, 19],\n",
       "       [20, 21, 22, 23, 24],\n",
       "       [25, 26, 27, 28, 29]])"
      ]
     },
     "execution_count": 109,
     "metadata": {},
     "output_type": "execute_result"
    }
   ],
   "source": [
    "array_2d"
   ]
  },
  {
   "cell_type": "code",
   "execution_count": 110,
   "metadata": {},
   "outputs": [
    {
     "data": {
      "text/plain": [
       "array([[ True, False, False,  True, False],\n",
       "       [False,  True, False, False,  True],\n",
       "       [False, False,  True, False, False],\n",
       "       [ True, False, False,  True, False],\n",
       "       [False,  True, False, False,  True],\n",
       "       [False, False,  True, False, False]])"
      ]
     },
     "execution_count": 110,
     "metadata": {},
     "output_type": "execute_result"
    }
   ],
   "source": [
    "array_2d % 3 == 0"
   ]
  },
  {
   "cell_type": "code",
   "execution_count": 111,
   "metadata": {},
   "outputs": [
    {
     "data": {
      "text/plain": [
       "array([[False,  True,  True, False,  True],\n",
       "       [ True, False,  True,  True, False],\n",
       "       [ True,  True, False,  True,  True],\n",
       "       [False,  True,  True, False,  True],\n",
       "       [ True, False,  True,  True, False],\n",
       "       [ True,  True, False,  True,  True]])"
      ]
     },
     "execution_count": 111,
     "metadata": {},
     "output_type": "execute_result"
    }
   ],
   "source": [
    "mask_mod_3 = 0 != array_2d % 3\n",
    "mask_mod_3"
   ]
  },
  {
   "cell_type": "code",
   "execution_count": 112,
   "metadata": {},
   "outputs": [
    {
     "data": {
      "text/plain": [
       "array([ 1,  2,  4,  5,  7,  8, 10, 11, 13, 14, 16, 17, 19, 20, 22, 23, 25,\n",
       "       26, 28, 29])"
      ]
     },
     "execution_count": 112,
     "metadata": {},
     "output_type": "execute_result"
    }
   ],
   "source": [
    "mask_mod_3 = 0 != array_2d % 3  # Creating mask for the said condition\n",
    "array_2d[mask_mod_3]            # pass the boolean mask to array_2d to return the required results"
   ]
  },
  {
   "cell_type": "code",
   "execution_count": 113,
   "metadata": {},
   "outputs": [
    {
     "data": {
      "text/plain": [
       "array([0., 0., 0., 0., 0.])"
      ]
     },
     "execution_count": 113,
     "metadata": {},
     "output_type": "execute_result"
    }
   ],
   "source": [
    "np.zeros(5)"
   ]
  },
  {
   "cell_type": "code",
   "execution_count": 115,
   "metadata": {},
   "outputs": [
    {
     "name": "stdout",
     "output_type": "stream",
     "text": [
      "[[ True False False False False False False False False False]\n",
      " [False False False False False False False False False False]\n",
      " [False False False False False False False False False False]\n",
      " [False False False False False False False False False False]\n",
      " [False False False False False False False False False False]\n",
      " [False False False False False False False False False False]\n",
      " [False False False False False False False False False False]\n",
      " [False False False False False False False False False False]\n",
      " [False False False False False False False False False False]\n",
      " [False False False False False False False False False  True]]\n"
     ]
    }
   ],
   "source": [
    "import numpy as np\n",
    "array = np.linspace(50, 60, 100)\n",
    "matrix = array.reshape(10, 10)\n",
    "result = matrix % 5 == 0\n",
    "print(result)\n"
   ]
  },
  {
   "cell_type": "code",
   "execution_count": 116,
   "metadata": {},
   "outputs": [
    {
     "name": "stdout",
     "output_type": "stream",
     "text": [
      "[50.         50.1010101  50.2020202  50.3030303  50.4040404  50.50505051\n",
      " 50.60606061 50.70707071 50.80808081 50.90909091 51.01010101 51.11111111\n",
      " 51.21212121 51.31313131 51.41414141 51.51515152 51.61616162 51.71717172\n",
      " 51.81818182 51.91919192 52.02020202 52.12121212 52.22222222 52.32323232\n",
      " 52.42424242 52.52525253 52.62626263 52.72727273 52.82828283 52.92929293\n",
      " 53.03030303 53.13131313 53.23232323 53.33333333 53.43434343 53.53535354\n",
      " 53.63636364 53.73737374 53.83838384 53.93939394 54.04040404 54.14141414\n",
      " 54.24242424 54.34343434 54.44444444 54.54545455 54.64646465 54.74747475\n",
      " 54.84848485 54.94949495 55.05050505 55.15151515 55.25252525 55.35353535\n",
      " 55.45454545 55.55555556 55.65656566 55.75757576 55.85858586 55.95959596\n",
      " 56.06060606 56.16161616 56.26262626 56.36363636 56.46464646 56.56565657\n",
      " 56.66666667 56.76767677 56.86868687 56.96969697 57.07070707 57.17171717\n",
      " 57.27272727 57.37373737 57.47474747 57.57575758 57.67676768 57.77777778\n",
      " 57.87878788 57.97979798 58.08080808 58.18181818 58.28282828 58.38383838\n",
      " 58.48484848 58.58585859 58.68686869 58.78787879 58.88888889 58.98989899\n",
      " 59.09090909 59.19191919 59.29292929 59.39393939 59.49494949 59.5959596\n",
      " 59.6969697  59.7979798  59.8989899  60.        ]\n"
     ]
    }
   ],
   "source": [
    "import numpy as np\n",
    "\n",
    "# Generate an array of 100 linearly spaced points between 50 and 60\n",
    "array = np.linspace(50, 60, 100)\n",
    "\n",
    "# Print the generated array\n",
    "print(array)\n"
   ]
  },
  {
   "cell_type": "code",
   "execution_count": 117,
   "metadata": {},
   "outputs": [
    {
     "name": "stdout",
     "output_type": "stream",
     "text": [
      "[[50.         50.1010101  50.2020202  50.3030303  50.4040404  50.50505051\n",
      "  50.60606061 50.70707071 50.80808081 50.90909091]\n",
      " [51.01010101 51.11111111 51.21212121 51.31313131 51.41414141 51.51515152\n",
      "  51.61616162 51.71717172 51.81818182 51.91919192]\n",
      " [52.02020202 52.12121212 52.22222222 52.32323232 52.42424242 52.52525253\n",
      "  52.62626263 52.72727273 52.82828283 52.92929293]\n",
      " [53.03030303 53.13131313 53.23232323 53.33333333 53.43434343 53.53535354\n",
      "  53.63636364 53.73737374 53.83838384 53.93939394]\n",
      " [54.04040404 54.14141414 54.24242424 54.34343434 54.44444444 54.54545455\n",
      "  54.64646465 54.74747475 54.84848485 54.94949495]\n",
      " [55.05050505 55.15151515 55.25252525 55.35353535 55.45454545 55.55555556\n",
      "  55.65656566 55.75757576 55.85858586 55.95959596]\n",
      " [56.06060606 56.16161616 56.26262626 56.36363636 56.46464646 56.56565657\n",
      "  56.66666667 56.76767677 56.86868687 56.96969697]\n",
      " [57.07070707 57.17171717 57.27272727 57.37373737 57.47474747 57.57575758\n",
      "  57.67676768 57.77777778 57.87878788 57.97979798]\n",
      " [58.08080808 58.18181818 58.28282828 58.38383838 58.48484848 58.58585859\n",
      "  58.68686869 58.78787879 58.88888889 58.98989899]\n",
      " [59.09090909 59.19191919 59.29292929 59.39393939 59.49494949 59.5959596\n",
      "  59.6969697  59.7979798  59.8989899  60.        ]]\n"
     ]
    }
   ],
   "source": [
    "import numpy as np\n",
    "\n",
    "# Generate an array of 100 linearly spaced points between 50 and 60\n",
    "array = np.linspace(50, 60, 100)\n",
    "\n",
    "# Convert the array to a 10x10 matrix\n",
    "matrix = array.reshape(10, 10)\n",
    "\n",
    "# Print the reshaped matrix\n",
    "print(matrix)\n"
   ]
  }
 ],
 "metadata": {
  "kernelspec": {
   "display_name": "base",
   "language": "python",
   "name": "python3"
  },
  "language_info": {
   "codemirror_mode": {
    "name": "ipython",
    "version": 3
   },
   "file_extension": ".py",
   "mimetype": "text/x-python",
   "name": "python",
   "nbconvert_exporter": "python",
   "pygments_lexer": "ipython3",
   "version": "3.12.7"
  }
 },
 "nbformat": 4,
 "nbformat_minor": 1
}
